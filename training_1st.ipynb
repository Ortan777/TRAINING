{
  "nbformat": 4,
  "nbformat_minor": 0,
  "metadata": {
    "colab": {
      "provenance": []
    },
    "kernelspec": {
      "name": "python3",
      "display_name": "Python 3"
    },
    "language_info": {
      "name": "python"
    }
  },
  "cells": [
    {
      "cell_type": "markdown",
      "source": [
        "# **Time Complexity Order (Best to Worst):**\n",
        "\n",
        "\n",
        "O(1) - Constant time\n",
        "(Example: Array access by index, Hash table lookup)\n",
        "\n",
        "O(log n) - Logarithmic time\n",
        "(Example: Binary search, Balanced BST operations)\n",
        "\n",
        "O(n) - Linear time\n",
        "(Example: Iterating through an array, Linear search)\n",
        "\n",
        "O(n log n) - Linearithmic time\n",
        "(Example: Efficient sorting algorithms like Merge Sort, QuickSort, HeapSort)\n",
        "\n",
        "O(n²) - Quadratic time\n",
        "(Example: Bubble Sort, Selection Sort, Insertion Sort - when worst case)\n",
        "\n",
        "O(2ⁿ) - Exponential time\n",
        "(Example: Recursive Fibonacci without memoization)\n",
        "\n",
        "O(n!) - Factorial time\n",
        "(Example: Brute-force solution for Traveling Salesman Problem)\n",
        "\n"
      ],
      "metadata": {
        "id": "YJcgE4K8ybDp"
      }
    },
    {
      "cell_type": "markdown",
      "source": [
        "##install thonny"
      ],
      "metadata": {
        "id": "L6U9HiWC05pT"
      }
    },
    {
      "cell_type": "code",
      "execution_count": null,
      "metadata": {
        "colab": {
          "base_uri": "https://localhost:8080/",
          "height": 159
        },
        "id": "wXPc2pPXAt5v",
        "outputId": "cbe74f84-ce76-42b6-d7b1-44d9b62a5eb6"
      },
      "outputs": [
        {
          "output_type": "error",
          "ename": "ValueError",
          "evalue": "too many values to unpack (expected 3)",
          "traceback": [
            "\u001b[0;31m---------------------------------------------------------------------------\u001b[0m",
            "\u001b[0;31mValueError\u001b[0m                                Traceback (most recent call last)",
            "\u001b[0;32m/tmp/ipython-input-1330119622.py\u001b[0m in \u001b[0;36m<cell line: 0>\u001b[0;34m()\u001b[0m\n\u001b[0;32m----> 1\u001b[0;31m \u001b[0ma\u001b[0m\u001b[0;34m,\u001b[0m\u001b[0mb\u001b[0m\u001b[0;34m,\u001b[0m\u001b[0mc\u001b[0m\u001b[0;34m=\u001b[0m\u001b[0;34m\"python\"\u001b[0m\u001b[0;34m\u001b[0m\u001b[0;34m\u001b[0m\u001b[0m\n\u001b[0m\u001b[1;32m      2\u001b[0m \u001b[0mprint\u001b[0m\u001b[0;34m(\u001b[0m\u001b[0ma\u001b[0m\u001b[0;34m,\u001b[0m\u001b[0mb\u001b[0m\u001b[0;34m,\u001b[0m\u001b[0mc\u001b[0m\u001b[0;34m)\u001b[0m\u001b[0;34m\u001b[0m\u001b[0;34m\u001b[0m\u001b[0m\n",
            "\u001b[0;31mValueError\u001b[0m: too many values to unpack (expected 3)"
          ]
        }
      ],
      "source": [
        "a,b,c=\"python\"  # error\n",
        "print(a,b,c)\n"
      ]
    },
    {
      "cell_type": "code",
      "source": [
        "*a,b,c=\"python\"  #arbitraty variable\n",
        "print(a,b,c)"
      ],
      "metadata": {
        "colab": {
          "base_uri": "https://localhost:8080/"
        },
        "id": "j6MLERaIBGd6",
        "outputId": "33ee97e4-7f18-4e45-9669-d245b7f7ff4b"
      },
      "execution_count": null,
      "outputs": [
        {
          "output_type": "stream",
          "name": "stdout",
          "text": [
            "['p', 'y', 't', 'h'] o n\n"
          ]
        }
      ]
    },
    {
      "cell_type": "code",
      "source": [
        "a,*b,c=\"python\"  #arbitraty variable\n",
        "print(a,b,c)"
      ],
      "metadata": {
        "colab": {
          "base_uri": "https://localhost:8080/"
        },
        "id": "2NbQCKpaBUcn",
        "outputId": "c2fed176-9ce8-47c3-cfbc-6f17e4861ecf"
      },
      "execution_count": null,
      "outputs": [
        {
          "output_type": "stream",
          "name": "stdout",
          "text": [
            "p ['y', 't', 'h', 'o'] n\n"
          ]
        }
      ]
    },
    {
      "cell_type": "code",
      "source": [
        "#palindrome words\n",
        "\n",
        "lst=['madam','apple','noon','malayalam']\n",
        "print([w for w in lst if w==w[::-1]])"
      ],
      "metadata": {
        "colab": {
          "base_uri": "https://localhost:8080/"
        },
        "id": "VZ05F-CKBfv4",
        "outputId": "7bc9ce50-79d9-4b4e-c682-3f5a1314a4b5"
      },
      "execution_count": null,
      "outputs": [
        {
          "output_type": "stream",
          "name": "stdout",
          "text": [
            "['madam', 'noon', 'malayalam']\n"
          ]
        }
      ]
    },
    {
      "cell_type": "code",
      "source": [
        "var='567'\n",
        "print(list(var))"
      ],
      "metadata": {
        "colab": {
          "base_uri": "https://localhost:8080/"
        },
        "id": "J2bqVeMTCQcw",
        "outputId": "090bc3bf-e3bb-4023-b22e-656a1413f315"
      },
      "execution_count": null,
      "outputs": [
        {
          "output_type": "stream",
          "name": "stdout",
          "text": [
            "['5', '6', '7']\n"
          ]
        }
      ]
    },
    {
      "cell_type": "code",
      "source": [
        "str='cbt','hyd'\n",
        "print(str)"
      ],
      "metadata": {
        "colab": {
          "base_uri": "https://localhost:8080/"
        },
        "id": "FlVDVtaKCFEh",
        "outputId": "8a1cabca-6fca-422f-8524-e3d8ec34de3b"
      },
      "execution_count": null,
      "outputs": [
        {
          "output_type": "stream",
          "name": "stdout",
          "text": [
            "('cbt', 'hyd')\n"
          ]
        }
      ]
    },
    {
      "cell_type": "code",
      "source": [
        "str='cbt''hyd'\n",
        "print(str)"
      ],
      "metadata": {
        "colab": {
          "base_uri": "https://localhost:8080/"
        },
        "id": "5GjZPn8oCdIY",
        "outputId": "531bca21-6f6b-42e0-97f1-9391f7634c5a"
      },
      "execution_count": null,
      "outputs": [
        {
          "output_type": "stream",
          "name": "stdout",
          "text": [
            "cbthyd\n"
          ]
        }
      ]
    },
    {
      "cell_type": "code",
      "source": [
        "l1=['in','as','if','be']\n",
        "print(l1[1:][:2])"
      ],
      "metadata": {
        "colab": {
          "base_uri": "https://localhost:8080/"
        },
        "id": "ov8hZ3A4CiZX",
        "outputId": "ebf65537-4f1c-4c75-a705-4b4a1579c746"
      },
      "execution_count": null,
      "outputs": [
        {
          "output_type": "stream",
          "name": "stdout",
          "text": [
            "['as', 'if']\n"
          ]
        }
      ]
    },
    {
      "cell_type": "code",
      "source": [
        "n=int(input(\"enter the number of element:\"))\n",
        "mylist=list(map(int,input(\"enter [5] space seperated number:\").split()))[:n]\n",
        "print(mylist)\n"
      ],
      "metadata": {
        "colab": {
          "base_uri": "https://localhost:8080/"
        },
        "id": "-UyGmMEDC3R5",
        "outputId": "9877b747-cb92-4f09-cfdf-771697da0492"
      },
      "execution_count": null,
      "outputs": [
        {
          "output_type": "stream",
          "name": "stdout",
          "text": [
            "enter the number of element:5\n",
            "enter [5] space seperated number:1 2 3 4 5 \n",
            "[1, 2, 3, 4, 5]\n"
          ]
        }
      ]
    },
    {
      "cell_type": "code",
      "source": [
        "\n",
        "# chained comparisions\n",
        "\n",
        "x=5\n",
        "print(1<x<10)\n",
        "\n",
        "#or\n",
        "print(True if(x>1 and x<10)else False)"
      ],
      "metadata": {
        "colab": {
          "base_uri": "https://localhost:8080/"
        },
        "id": "bO4u5YxxD8mQ",
        "outputId": "1c33999b-ddad-4bee-8467-429ec4561f4b"
      },
      "execution_count": null,
      "outputs": [
        {
          "output_type": "stream",
          "name": "stdout",
          "text": [
            "True\n",
            "True\n"
          ]
        }
      ]
    },
    {
      "cell_type": "code",
      "source": [
        "lst=['a','b','c','d']\n",
        "for ele in lst:\n",
        "  if ele=='b':\n",
        "    lst.remove('b')\n",
        "  else:\n",
        "    print(ele)\n",
        "\n",
        "    \"\"\"Note: Modifying a list while iterating over it using a for loop can lead to unexpected behavior due to the changing size and indices of the list.\n",
        "    In this specific case, when 'b' is removed, the loop continues from the next element in the original list's sequence, causing 'c' to be skipped and only 'd' to be printed after 'a'.\"\"\"\n"
      ],
      "metadata": {
        "colab": {
          "base_uri": "https://localhost:8080/"
        },
        "id": "YKm9O99_EnwA",
        "outputId": "8bc4310e-23d5-469d-bac9-abb139ad610f"
      },
      "execution_count": null,
      "outputs": [
        {
          "output_type": "stream",
          "name": "stdout",
          "text": [
            "a\n",
            "d\n"
          ]
        }
      ]
    },
    {
      "cell_type": "code",
      "source": [
        "x={}\n",
        "y=[1,2]\n",
        "z=[3,4]\n",
        "print(x.fromkeys(y,z))"
      ],
      "metadata": {
        "id": "JRKNvV0FFs2X",
        "colab": {
          "base_uri": "https://localhost:8080/"
        },
        "outputId": "01643a29-1dc7-45f7-f8ea-b92d3ee8ff98"
      },
      "execution_count": null,
      "outputs": [
        {
          "output_type": "stream",
          "name": "stdout",
          "text": [
            "{1: [3, 4], 2: [3, 4]}\n"
          ]
        }
      ]
    },
    {
      "cell_type": "code",
      "source": [
        "msg='python programing'\n",
        "print(msg[-0])"
      ],
      "metadata": {
        "colab": {
          "base_uri": "https://localhost:8080/"
        },
        "id": "kaEclf8pG6EY",
        "outputId": "0ff26860-7042-4f76-ea45-271ee378828b"
      },
      "execution_count": null,
      "outputs": [
        {
          "output_type": "stream",
          "name": "stdout",
          "text": [
            "p\n"
          ]
        }
      ]
    },
    {
      "cell_type": "code",
      "source": [
        "print(min(0.0,-0,0))\n",
        "print(min(-0.0,0.0))"
      ],
      "metadata": {
        "colab": {
          "base_uri": "https://localhost:8080/"
        },
        "id": "xff8is9WHmp-",
        "outputId": "3456abed-9493-46a3-8adf-4130dbf8afc4"
      },
      "execution_count": null,
      "outputs": [
        {
          "output_type": "stream",
          "name": "stdout",
          "text": [
            "0.0\n",
            "-0.0\n"
          ]
        }
      ]
    },
    {
      "cell_type": "code",
      "source": [
        "num=[10,20,30,40,50]\n",
        "num[1:4]=[90,45,30]\n",
        "print(num)"
      ],
      "metadata": {
        "colab": {
          "base_uri": "https://localhost:8080/"
        },
        "id": "zRI7JSRoH0_d",
        "outputId": "846eed7a-992f-41bb-cb36-e2555cab1245"
      },
      "execution_count": null,
      "outputs": [
        {
          "output_type": "stream",
          "name": "stdout",
          "text": [
            "[10, 90, 45, 30, 50]\n"
          ]
        }
      ]
    },
    {
      "cell_type": "code",
      "source": [
        "print(1+True)"
      ],
      "metadata": {
        "colab": {
          "base_uri": "https://localhost:8080/"
        },
        "id": "myX4yrLtIOcV",
        "outputId": "5fdbafbc-c858-4f45-ccec-edf007eca800"
      },
      "execution_count": null,
      "outputs": [
        {
          "output_type": "stream",
          "name": "stdout",
          "text": [
            "2\n"
          ]
        }
      ]
    },
    {
      "cell_type": "code",
      "source": [
        "values=('a1','b2','c3')\n",
        "print(dict(values))\n",
        "\n",
        "value=('a4','a2','a3')\n",
        "print(dict(value))"
      ],
      "metadata": {
        "colab": {
          "base_uri": "https://localhost:8080/"
        },
        "id": "3_zMc6OgIcgP",
        "outputId": "2504d9b3-b121-4ada-d9e6-c298ee07ddbb"
      },
      "execution_count": null,
      "outputs": [
        {
          "output_type": "stream",
          "name": "stdout",
          "text": [
            "{'a': '1', 'b': '2', 'c': '3'}\n",
            "{'a': '3'}\n"
          ]
        }
      ]
    },
    {
      "cell_type": "code",
      "source": [
        "#python allows multiple value to be returned\n",
        "def add(a,b):\n",
        "  return a+5,b+5\n",
        "result=add(3,2)\n",
        "print(result)"
      ],
      "metadata": {
        "colab": {
          "base_uri": "https://localhost:8080/"
        },
        "id": "JYArqMzHIwDG",
        "outputId": "2185ae98-34ca-4213-f088-64686fdab751"
      },
      "execution_count": null,
      "outputs": [
        {
          "output_type": "stream",
          "name": "stdout",
          "text": [
            "(8, 7)\n"
          ]
        }
      ]
    },
    {
      "cell_type": "code",
      "source": [
        "x=y=z=10\n",
        "print(x,y,z)\n",
        "x,y,z=10,20,30\n",
        "print(x,y,z)\n",
        "x=10,20,30\n",
        "print(x)"
      ],
      "metadata": {
        "colab": {
          "base_uri": "https://localhost:8080/"
        },
        "id": "dFhu1ECIJjeN",
        "outputId": "45a0ae68-f1c9-4b14-8418-696908959e99"
      },
      "execution_count": null,
      "outputs": [
        {
          "output_type": "stream",
          "name": "stdout",
          "text": [
            "10 10 10\n",
            "10 20 30\n",
            "(10, 20, 30)\n"
          ]
        }
      ]
    },
    {
      "cell_type": "code",
      "source": [
        "x=[[]]*2\n",
        "x[1].append(2)\n",
        "print(x)\n",
        "y='python'  #the above thing is similar to this\n",
        "print(y*2)"
      ],
      "metadata": {
        "colab": {
          "base_uri": "https://localhost:8080/"
        },
        "id": "CfN833SLKII9",
        "outputId": "698119fe-77fe-483e-9f8b-8bedb6e93762"
      },
      "execution_count": null,
      "outputs": [
        {
          "output_type": "stream",
          "name": "stdout",
          "text": [
            "[[2], [2]]\n",
            "pythonpython\n"
          ]
        }
      ]
    },
    {
      "cell_type": "code",
      "source": [
        "def multiply(a,b):\n",
        "  return a*b\n",
        "result=multiply(5,0) or multiply(3,12) #true value will be assigned to results other than 0 all other nums are true\n",
        "print(result)"
      ],
      "metadata": {
        "colab": {
          "base_uri": "https://localhost:8080/"
        },
        "id": "ADUMsLGWKVtL",
        "outputId": "daef714a-7100-4c53-d598-e9faa334b9c8"
      },
      "execution_count": null,
      "outputs": [
        {
          "output_type": "stream",
          "name": "stdout",
          "text": [
            "36\n"
          ]
        }
      ]
    },
    {
      "cell_type": "code",
      "source": [
        "*_,='python'  #pistol operator\n",
        "print(_)\n",
        "\n",
        "'''That's a fun, informal name that some people use for the * symbol when it's used in a special way in Python.\n",
        "The * is like the tool that helps you scoop up all those letters and put them into the bag (_).\n",
        "So, the \"pistol operator\" (*) is just a nickname for this scooping action that puts multiple things from a sequence\n",
        "(like a string or a list) into a single variable, usually as a list.It helps you grab the \"rest\" of the items.'''"
      ],
      "metadata": {
        "colab": {
          "base_uri": "https://localhost:8080/",
          "height": 105
        },
        "id": "dXIpNBmmK7pE",
        "outputId": "24f1d11b-4769-4810-b530-0a105c7bafc3"
      },
      "execution_count": null,
      "outputs": [
        {
          "output_type": "stream",
          "name": "stdout",
          "text": [
            "['p', 'y', 't', 'h', 'o', 'n']\n"
          ]
        },
        {
          "output_type": "execute_result",
          "data": {
            "text/plain": [
              "'That\\'s a fun, informal name that some people use for the * symbol when it\\'s used in a special way in Python. \\nThe * is like the tool that helps you scoop up all those letters and put them into the bag (_).\\nSo, the \"pistol operator\" (*) is just a nickname for this scooping action that puts multiple things from a sequence \\n(like a string or a list) into a single variable, usually as a list.It helps you grab the \"rest\" of the items.'"
            ],
            "application/vnd.google.colaboratory.intrinsic+json": {
              "type": "string"
            }
          },
          "metadata": {},
          "execution_count": 39
        }
      ]
    },
    {
      "cell_type": "code",
      "source": [
        "a=3\n",
        "b=1\n",
        "for c in range(2,6):\n",
        "  a=a-c\n",
        "  a=a+c\n",
        "print(a+b)"
      ],
      "metadata": {
        "colab": {
          "base_uri": "https://localhost:8080/"
        },
        "id": "dqisJikzLrF0",
        "outputId": "1fee57b8-81a4-4af0-b37e-76d44220ad5c"
      },
      "execution_count": null,
      "outputs": [
        {
          "output_type": "stream",
          "name": "stdout",
          "text": [
            "4\n"
          ]
        }
      ]
    },
    {
      "cell_type": "code",
      "source": [
        "a=(10,20,30)\n",
        "b=(40)    #will cause an error bcz a is a tuple and b is an int and int and tuple cannot be concatinated\n",
        "print(a+b)"
      ],
      "metadata": {
        "id": "uohk5h_fNKd0",
        "colab": {
          "base_uri": "https://localhost:8080/",
          "height": 193
        },
        "outputId": "890d1cb0-e60f-4dad-82d5-543f88604fbb"
      },
      "execution_count": null,
      "outputs": [
        {
          "output_type": "error",
          "ename": "TypeError",
          "evalue": "can only concatenate tuple (not \"int\") to tuple",
          "traceback": [
            "\u001b[0;31m---------------------------------------------------------------------------\u001b[0m",
            "\u001b[0;31mTypeError\u001b[0m                                 Traceback (most recent call last)",
            "\u001b[0;32m/tmp/ipython-input-2661175216.py\u001b[0m in \u001b[0;36m<cell line: 0>\u001b[0;34m()\u001b[0m\n\u001b[1;32m      1\u001b[0m \u001b[0ma\u001b[0m\u001b[0;34m=\u001b[0m\u001b[0;34m(\u001b[0m\u001b[0;36m10\u001b[0m\u001b[0;34m,\u001b[0m\u001b[0;36m20\u001b[0m\u001b[0;34m,\u001b[0m\u001b[0;36m30\u001b[0m\u001b[0;34m)\u001b[0m\u001b[0;34m\u001b[0m\u001b[0;34m\u001b[0m\u001b[0m\n\u001b[1;32m      2\u001b[0m \u001b[0mb\u001b[0m\u001b[0;34m=\u001b[0m\u001b[0;34m(\u001b[0m\u001b[0;36m40\u001b[0m\u001b[0;34m)\u001b[0m    \u001b[0;31m#will cause an error bcz a is a tuple and b is an int and int and tuple cannot be concatinated\u001b[0m\u001b[0;34m\u001b[0m\u001b[0;34m\u001b[0m\u001b[0m\n\u001b[0;32m----> 3\u001b[0;31m \u001b[0mprint\u001b[0m\u001b[0;34m(\u001b[0m\u001b[0ma\u001b[0m\u001b[0;34m+\u001b[0m\u001b[0mb\u001b[0m\u001b[0;34m)\u001b[0m\u001b[0;34m\u001b[0m\u001b[0;34m\u001b[0m\u001b[0m\n\u001b[0m",
            "\u001b[0;31mTypeError\u001b[0m: can only concatenate tuple (not \"int\") to tuple"
          ]
        }
      ]
    },
    {
      "cell_type": "code",
      "source": [
        "#but\n",
        "a=(10,20,30)\n",
        "b=(40,)    #since , is present it makes b tuple so it will get concatinated\n",
        "print(a+b)"
      ],
      "metadata": {
        "colab": {
          "base_uri": "https://localhost:8080/"
        },
        "id": "PZZQ8Mihc3bw",
        "outputId": "49e334db-4301-4cb0-8f34-a52db915acdd"
      },
      "execution_count": null,
      "outputs": [
        {
          "output_type": "stream",
          "name": "stdout",
          "text": [
            "(10, 20, 30, 40)\n"
          ]
        }
      ]
    },
    {
      "cell_type": "code",
      "source": [
        "list1=['1.0','a','0.1','1','-1']   #sorting lists\n",
        "list2=sorted(list1)\n",
        "print( list2 )"
      ],
      "metadata": {
        "colab": {
          "base_uri": "https://localhost:8080/"
        },
        "id": "S7zzHp5vddzP",
        "outputId": "0c1a4ac6-90e3-4bf7-937b-b343f8766a47"
      },
      "execution_count": null,
      "outputs": [
        {
          "output_type": "stream",
          "name": "stdout",
          "text": [
            "['-1', '0.1', '1', '1.0', 'a']\n"
          ]
        }
      ]
    },
    {
      "cell_type": "code",
      "source": [
        "#swapping two values\n",
        "\n",
        "a=5\n",
        "b=10\n",
        "a=a^b\n",
        "b=a^b\n",
        "a=a^b\n",
        "print(a,b)"
      ],
      "metadata": {
        "colab": {
          "base_uri": "https://localhost:8080/"
        },
        "id": "8pd3Gjsdd_dX",
        "outputId": "865b7eed-0d3a-4942-d7ee-d06e90d227a2"
      },
      "execution_count": null,
      "outputs": [
        {
          "output_type": "stream",
          "name": "stdout",
          "text": [
            "10 5\n"
          ]
        }
      ]
    },
    {
      "cell_type": "code",
      "source": [
        "def solve(a):\n",
        "  return a[-1]\n",
        "a={1,2,3,4}   #  set (not dictionary cz it does not have keys) set is unordered and dosent have index so it throws error\n",
        "print(solve(a)**2)"
      ],
      "metadata": {
        "colab": {
          "base_uri": "https://localhost:8080/",
          "height": 280
        },
        "id": "U73n0f9meWa2",
        "outputId": "4759edd5-a303-4f16-f729-05b8e37d6ed5"
      },
      "execution_count": null,
      "outputs": [
        {
          "output_type": "error",
          "ename": "TypeError",
          "evalue": "'set' object is not subscriptable",
          "traceback": [
            "\u001b[0;31m---------------------------------------------------------------------------\u001b[0m",
            "\u001b[0;31mTypeError\u001b[0m                                 Traceback (most recent call last)",
            "\u001b[0;32m/tmp/ipython-input-2606043143.py\u001b[0m in \u001b[0;36m<cell line: 0>\u001b[0;34m()\u001b[0m\n\u001b[1;32m      2\u001b[0m   \u001b[0;32mreturn\u001b[0m \u001b[0ma\u001b[0m\u001b[0;34m[\u001b[0m\u001b[0;34m-\u001b[0m\u001b[0;36m1\u001b[0m\u001b[0;34m]\u001b[0m\u001b[0;34m\u001b[0m\u001b[0;34m\u001b[0m\u001b[0m\n\u001b[1;32m      3\u001b[0m \u001b[0ma\u001b[0m\u001b[0;34m=\u001b[0m\u001b[0;34m{\u001b[0m\u001b[0;36m1\u001b[0m\u001b[0;34m,\u001b[0m\u001b[0;36m2\u001b[0m\u001b[0;34m,\u001b[0m\u001b[0;36m3\u001b[0m\u001b[0;34m,\u001b[0m\u001b[0;36m4\u001b[0m\u001b[0;34m}\u001b[0m\u001b[0;34m\u001b[0m\u001b[0;34m\u001b[0m\u001b[0m\n\u001b[0;32m----> 4\u001b[0;31m \u001b[0mprint\u001b[0m\u001b[0;34m(\u001b[0m\u001b[0msolve\u001b[0m\u001b[0;34m(\u001b[0m\u001b[0ma\u001b[0m\u001b[0;34m)\u001b[0m\u001b[0;34m**\u001b[0m\u001b[0;36m2\u001b[0m\u001b[0;34m)\u001b[0m\u001b[0;34m\u001b[0m\u001b[0;34m\u001b[0m\u001b[0m\n\u001b[0m",
            "\u001b[0;32m/tmp/ipython-input-2606043143.py\u001b[0m in \u001b[0;36msolve\u001b[0;34m(a)\u001b[0m\n\u001b[1;32m      1\u001b[0m \u001b[0;32mdef\u001b[0m \u001b[0msolve\u001b[0m\u001b[0;34m(\u001b[0m\u001b[0ma\u001b[0m\u001b[0;34m)\u001b[0m\u001b[0;34m:\u001b[0m\u001b[0;34m\u001b[0m\u001b[0;34m\u001b[0m\u001b[0m\n\u001b[0;32m----> 2\u001b[0;31m   \u001b[0;32mreturn\u001b[0m \u001b[0ma\u001b[0m\u001b[0;34m[\u001b[0m\u001b[0;34m-\u001b[0m\u001b[0;36m1\u001b[0m\u001b[0;34m]\u001b[0m\u001b[0;34m\u001b[0m\u001b[0;34m\u001b[0m\u001b[0m\n\u001b[0m\u001b[1;32m      3\u001b[0m \u001b[0ma\u001b[0m\u001b[0;34m=\u001b[0m\u001b[0;34m{\u001b[0m\u001b[0;36m1\u001b[0m\u001b[0;34m,\u001b[0m\u001b[0;36m2\u001b[0m\u001b[0;34m,\u001b[0m\u001b[0;36m3\u001b[0m\u001b[0;34m,\u001b[0m\u001b[0;36m4\u001b[0m\u001b[0;34m}\u001b[0m\u001b[0;34m\u001b[0m\u001b[0;34m\u001b[0m\u001b[0m\n\u001b[1;32m      4\u001b[0m \u001b[0mprint\u001b[0m\u001b[0;34m(\u001b[0m\u001b[0msolve\u001b[0m\u001b[0;34m(\u001b[0m\u001b[0ma\u001b[0m\u001b[0;34m)\u001b[0m\u001b[0;34m**\u001b[0m\u001b[0;36m2\u001b[0m\u001b[0;34m)\u001b[0m\u001b[0;34m\u001b[0m\u001b[0;34m\u001b[0m\u001b[0m\n",
            "\u001b[0;31mTypeError\u001b[0m: 'set' object is not subscriptable"
          ]
        }
      ]
    },
    {
      "cell_type": "code",
      "source": [
        "A=10\n",
        "a='10'\n",
        "print(str(A)==a)\n",
        "\n"
      ],
      "metadata": {
        "colab": {
          "base_uri": "https://localhost:8080/"
        },
        "id": "CEdEv_lofBBu",
        "outputId": "b6a3ba5f-83a9-4aaa-ba9b-012989807415"
      },
      "execution_count": null,
      "outputs": [
        {
          "output_type": "stream",
          "name": "stdout",
          "text": [
            "True\n"
          ]
        }
      ]
    },
    {
      "cell_type": "code",
      "source": [
        "print(isinstance('True',str))"
      ],
      "metadata": {
        "colab": {
          "base_uri": "https://localhost:8080/"
        },
        "id": "80QgfxDGgBCH",
        "outputId": "fa09a643-c24f-4096-8ff9-5d30978cb24d"
      },
      "execution_count": null,
      "outputs": [
        {
          "output_type": "stream",
          "name": "stdout",
          "text": [
            "True\n"
          ]
        }
      ]
    },
    {
      "cell_type": "code",
      "source": [
        "x=0.1\n",
        "y=0.2\n",
        "print((x+y)==True) #0.1+0.3 will be considered as 0 and 0(false)==true is false"
      ],
      "metadata": {
        "colab": {
          "base_uri": "https://localhost:8080/"
        },
        "id": "-l_MyrmigKj2",
        "outputId": "693c1426-28e2-4f8a-b999-844c07f4696b"
      },
      "execution_count": null,
      "outputs": [
        {
          "output_type": "stream",
          "name": "stdout",
          "text": [
            "False\n"
          ]
        }
      ]
    },
    {
      "cell_type": "code",
      "source": [
        "str1='python learning'\n",
        "str2=str1[:5]*2+str1[:4]\n",
        "str3=str2[:5//2]*3\n",
        "print(str3)"
      ],
      "metadata": {
        "colab": {
          "base_uri": "https://localhost:8080/"
        },
        "id": "_c9wHAHngvf-",
        "outputId": "af2f6790-ec84-4915-ec34-07094c104af2"
      },
      "execution_count": null,
      "outputs": [
        {
          "output_type": "stream",
          "name": "stdout",
          "text": [
            "pypypy\n"
          ]
        }
      ]
    },
    {
      "cell_type": "code",
      "source": [
        "a=[1,2,3,5]\n",
        "if a.sort()==sorted(a):\n",
        "  print(\"cow\")\n",
        "else:\n",
        "  print(\"dog\")"
      ],
      "metadata": {
        "colab": {
          "base_uri": "https://localhost:8080/"
        },
        "id": "teR0WpV6hPAP",
        "outputId": "d5687b49-6720-4587-b529-011dc702f19b"
      },
      "execution_count": null,
      "outputs": [
        {
          "output_type": "stream",
          "name": "stdout",
          "text": [
            "dog\n"
          ]
        }
      ]
    },
    {
      "cell_type": "code",
      "source": [
        "x=['ab','cd']\n",
        "for i in x:\n",
        "  x.append(i.upper())\n",
        "print(x)\n",
        "\n",
        "''' forms an infinite loop caps ab and cd will be pushed inside the lisst even ht will be added as x so it keeps on add8ing'''"
      ],
      "metadata": {
        "colab": {
          "base_uri": "https://localhost:8080/",
          "height": 193
        },
        "id": "OqbKzqk_hwBG",
        "outputId": "aac875ce-8419-432f-fbb0-30e04041b347"
      },
      "execution_count": null,
      "outputs": [
        {
          "output_type": "error",
          "ename": "KeyboardInterrupt",
          "evalue": "",
          "traceback": [
            "\u001b[0;31m---------------------------------------------------------------------------\u001b[0m",
            "\u001b[0;31mKeyboardInterrupt\u001b[0m                         Traceback (most recent call last)",
            "\u001b[0;32m/tmp/ipython-input-4011388797.py\u001b[0m in \u001b[0;36m<cell line: 0>\u001b[0;34m()\u001b[0m\n\u001b[1;32m      1\u001b[0m \u001b[0mx\u001b[0m\u001b[0;34m=\u001b[0m\u001b[0;34m[\u001b[0m\u001b[0;34m'ab'\u001b[0m\u001b[0;34m,\u001b[0m\u001b[0;34m'cd'\u001b[0m\u001b[0;34m]\u001b[0m\u001b[0;34m\u001b[0m\u001b[0;34m\u001b[0m\u001b[0m\n\u001b[1;32m      2\u001b[0m \u001b[0;32mfor\u001b[0m \u001b[0mi\u001b[0m \u001b[0;32min\u001b[0m \u001b[0mx\u001b[0m\u001b[0;34m:\u001b[0m\u001b[0;34m\u001b[0m\u001b[0;34m\u001b[0m\u001b[0m\n\u001b[0;32m----> 3\u001b[0;31m   \u001b[0mx\u001b[0m\u001b[0;34m.\u001b[0m\u001b[0mappend\u001b[0m\u001b[0;34m(\u001b[0m\u001b[0mi\u001b[0m\u001b[0;34m.\u001b[0m\u001b[0mupper\u001b[0m\u001b[0;34m(\u001b[0m\u001b[0;34m)\u001b[0m\u001b[0;34m)\u001b[0m\u001b[0;34m\u001b[0m\u001b[0;34m\u001b[0m\u001b[0m\n\u001b[0m\u001b[1;32m      4\u001b[0m \u001b[0mprint\u001b[0m\u001b[0;34m(\u001b[0m\u001b[0mx\u001b[0m\u001b[0;34m)\u001b[0m\u001b[0;34m\u001b[0m\u001b[0;34m\u001b[0m\u001b[0m\n",
            "\u001b[0;31mKeyboardInterrupt\u001b[0m: "
          ]
        }
      ]
    },
    {
      "cell_type": "code",
      "source": [
        "data={\n",
        "    'name':'sumanth',\n",
        "    'branch':'cse',\n",
        "    'skills':'python'\n",
        "}\n",
        "print(data['name'])\n",
        "print(data['email'])"
      ],
      "metadata": {
        "colab": {
          "base_uri": "https://localhost:8080/",
          "height": 193
        },
        "id": "V0xrQGs0i4km",
        "outputId": "cc69a79f-4d18-4b68-98c2-9310a19810e9"
      },
      "execution_count": null,
      "outputs": [
        {
          "output_type": "stream",
          "name": "stdout",
          "text": [
            "sumanth\n"
          ]
        },
        {
          "output_type": "error",
          "ename": "KeyError",
          "evalue": "'email'",
          "traceback": [
            "\u001b[0;31m---------------------------------------------------------------------------\u001b[0m",
            "\u001b[0;31mKeyError\u001b[0m                                  Traceback (most recent call last)",
            "\u001b[0;32m/tmp/ipython-input-2976099952.py\u001b[0m in \u001b[0;36m<cell line: 0>\u001b[0;34m()\u001b[0m\n\u001b[1;32m      5\u001b[0m }\n\u001b[1;32m      6\u001b[0m \u001b[0mprint\u001b[0m\u001b[0;34m(\u001b[0m\u001b[0mdata\u001b[0m\u001b[0;34m[\u001b[0m\u001b[0;34m'name'\u001b[0m\u001b[0;34m]\u001b[0m\u001b[0;34m)\u001b[0m\u001b[0;34m\u001b[0m\u001b[0;34m\u001b[0m\u001b[0m\n\u001b[0;32m----> 7\u001b[0;31m \u001b[0mprint\u001b[0m\u001b[0;34m(\u001b[0m\u001b[0mdata\u001b[0m\u001b[0;34m[\u001b[0m\u001b[0;34m'email'\u001b[0m\u001b[0;34m]\u001b[0m\u001b[0;34m)\u001b[0m\u001b[0;34m\u001b[0m\u001b[0;34m\u001b[0m\u001b[0m\n\u001b[0m",
            "\u001b[0;31mKeyError\u001b[0m: 'email'"
          ]
        }
      ]
    },
    {
      "cell_type": "code",
      "source": [
        "str='python'\n",
        "print(str)\n",
        "x=100\n",
        "y=str(x)  # basically this is type conversion but since we declared a variable named str so it throws error\n",
        "print(y)"
      ],
      "metadata": {
        "colab": {
          "base_uri": "https://localhost:8080/",
          "height": 211
        },
        "id": "Sv8bkcTikCWl",
        "outputId": "32d210d1-3a04-48c4-ae57-9f0edc01cf31"
      },
      "execution_count": null,
      "outputs": [
        {
          "output_type": "stream",
          "name": "stdout",
          "text": [
            "python\n"
          ]
        },
        {
          "output_type": "error",
          "ename": "TypeError",
          "evalue": "'str' object is not callable",
          "traceback": [
            "\u001b[0;31m---------------------------------------------------------------------------\u001b[0m",
            "\u001b[0;31mTypeError\u001b[0m                                 Traceback (most recent call last)",
            "\u001b[0;32m/tmp/ipython-input-1685323159.py\u001b[0m in \u001b[0;36m<cell line: 0>\u001b[0;34m()\u001b[0m\n\u001b[1;32m      2\u001b[0m \u001b[0mprint\u001b[0m\u001b[0;34m(\u001b[0m\u001b[0mstr\u001b[0m\u001b[0;34m)\u001b[0m\u001b[0;34m\u001b[0m\u001b[0;34m\u001b[0m\u001b[0m\n\u001b[1;32m      3\u001b[0m \u001b[0mx\u001b[0m\u001b[0;34m=\u001b[0m\u001b[0;36m100\u001b[0m\u001b[0;34m\u001b[0m\u001b[0;34m\u001b[0m\u001b[0m\n\u001b[0;32m----> 4\u001b[0;31m \u001b[0my\u001b[0m\u001b[0;34m=\u001b[0m\u001b[0mstr\u001b[0m\u001b[0;34m(\u001b[0m\u001b[0mx\u001b[0m\u001b[0;34m)\u001b[0m\u001b[0;34m\u001b[0m\u001b[0;34m\u001b[0m\u001b[0m\n\u001b[0m\u001b[1;32m      5\u001b[0m \u001b[0mprint\u001b[0m\u001b[0;34m(\u001b[0m\u001b[0my\u001b[0m\u001b[0;34m)\u001b[0m\u001b[0;34m\u001b[0m\u001b[0;34m\u001b[0m\u001b[0m\n",
            "\u001b[0;31mTypeError\u001b[0m: 'str' object is not callable"
          ]
        }
      ]
    },
    {
      "cell_type": "markdown",
      "source": [
        "###**Given a number ,check wether it is palindrome or not.**\n",
        "\n",
        "\n"
      ],
      "metadata": {
        "id": "-AHEbyZJl_eT"
      }
    },
    {
      "cell_type": "code",
      "source": [
        "n=int(input(\"enter a number\"))\n",
        "t=n\n",
        "rev=0\n",
        "while(n>0):\n",
        "  d=n%10\n",
        "  rev=rev*10+d\n",
        "  n=n//10\n",
        "if(t==rev):\n",
        "  print(\"palindrome\")\n",
        "else:\n",
        "  print(\"not palindrome\")"
      ],
      "metadata": {
        "colab": {
          "base_uri": "https://localhost:8080/"
        },
        "id": "e4m-Vt2xkTOZ",
        "outputId": "7b2416a9-7ba0-4af9-a172-ec195c7370e5"
      },
      "execution_count": null,
      "outputs": [
        {
          "output_type": "stream",
          "name": "stdout",
          "text": [
            "enter a number121\n",
            "palindrome\n"
          ]
        }
      ]
    },
    {
      "cell_type": "markdown",
      "source": [
        "This code checks if a given number is a palindrome. Here's how it works:\n",
        "\n",
        "n=int(input(\"enter a number\")): It prompts the user to enter a number and stores it as an integer in the variable n.\n",
        "t=n: It stores the original number in variable t for later comparison.\n",
        "\n",
        "rev=0: It initializes a variable rev to 0, which will store the reversed number.\n",
        "\n",
        "\n",
        "while(n>0):: It starts a loop that continues as long as n is greater than 0.\n",
        "\n",
        "\n",
        "d=n%10: It extracts the last digit of n using the modulo operator (%) and stores it in d.\n",
        "\n",
        "\n",
        "rev=rev*10+d: It builds the reversed number by multiplying rev by 10 and adding the extracted digit d.\n",
        "n=n//10: It removes the last digit from n using integer division (//).\n",
        "\n",
        "\n",
        "if(t==rev):: After the loop finishes, it compares the original number (t) with the reversed number (rev).\n",
        "print(\"palindrome\"): If they are equal, it prints \"palindrome\".\n",
        "\n",
        "\n",
        "else: print(\"not palindrome\"): Otherwise, it prints \"not palindrome\".\n"
      ],
      "metadata": {
        "id": "qAylGuWCpfay"
      }
    },
    {
      "cell_type": "markdown",
      "source": [
        "### **Input a number, find the sum of digits to a single digit**\n",
        "\n",
        "\n"
      ],
      "metadata": {
        "id": "vuV6im7Pp1G5"
      }
    },
    {
      "cell_type": "code",
      "source": [
        "a=int(input(\"enter a number\"))\n",
        "while a>9:\n",
        "  sum=0\n",
        "  n=a\n",
        "  while n>0:\n",
        "    r=n%10\n",
        "    sum+=r\n",
        "    n=n//10\n",
        "  a=sum\n",
        "print(sum)"
      ],
      "metadata": {
        "colab": {
          "base_uri": "https://localhost:8080/"
        },
        "id": "PuTG8OG9k-ik",
        "outputId": "bbfd29f1-f94b-4963-d400-925fde39f325"
      },
      "execution_count": null,
      "outputs": [
        {
          "output_type": "stream",
          "name": "stdout",
          "text": [
            "enter a number12345\n",
            "6\n"
          ]
        }
      ]
    },
    {
      "cell_type": "markdown",
      "metadata": {
        "id": "c7c4ce75"
      },
      "source": [
        "This code takes an integer input from the user and calculates the sum of its digits repeatedly until a single-digit sum is obtained.\n",
        "\n",
        "Here's a breakdown of how it works:\n",
        "\n",
        "1.  **`a=int(input(\"enter a number\"))`**: Prompts the user to enter a number and converts it to an integer, storing it in `a`.\n",
        "2.  **`while a>9:`**: This outer loop continues as long as the value of `a` is greater than 9.\n",
        "3.  **`sum=0`**: Initializes `sum` to 0 at the beginning of each outer loop iteration.\n",
        "4.  **`n=a`**: Creates a temporary variable `n` with the current value of `a` to avoid modifying `a` directly during digit summation.\n",
        "5.  **`while n>0:`**: This inner loop iterates through the digits of `n`.\n",
        "6.  **`r=n%10`**: Extracts the last digit of `n`.\n",
        "7.  **`sum+=r`**: Adds the extracted digit to `sum`.\n",
        "8.  **`n=n//10`**: Removes the last digit from `n`.\n",
        "9.  **`a=sum`**: After the inner loop, the calculated `sum` is assigned back to `a`. This is the crucial step that updates the number for the next iteration of the outer loop.\n",
        "10. **`print(sum)`**: Once the outer loop condition `a>9` is no longer true (meaning `a` is a single digit), the final `sum` (which is now the single-digit result) is printed."
      ]
    },
    {
      "cell_type": "markdown",
      "source": [
        "### **Input a number, check wether it is amstrong number or not**\n",
        "\n",
        "if sum of each digit power its length is equallent to the same number, then it is an amstrong number,ex 3^3+5^3+1^3->153\n",
        "\n"
      ],
      "metadata": {
        "id": "NintdT2gt3ER"
      }
    },
    {
      "cell_type": "code",
      "source": [
        "del str  #cz ive used str above\n"
      ],
      "metadata": {
        "id": "5GtiUf_tyvEg"
      },
      "execution_count": null,
      "outputs": []
    },
    {
      "cell_type": "code",
      "source": [
        "# Program to find whether a number is armstrong or not\n",
        "n=int(input(\"Enter a number: \"))\n",
        "t=n\n",
        "sum=0\n",
        "l=len(str(n))\n",
        "while(n>0):\n",
        "    rem = n%10\n",
        "    sum = sum + rem**l\n",
        "    n//=10\n",
        "if sum == t:\n",
        "    print(\"Armstrong number\")\n",
        "else:\n",
        "    print(\"Not an armstrong number\")"
      ],
      "metadata": {
        "colab": {
          "base_uri": "https://localhost:8080/"
        },
        "id": "PwnaH44FvIwZ",
        "outputId": "30641f72-826d-43e7-c4b2-f1988374defd"
      },
      "execution_count": null,
      "outputs": [
        {
          "output_type": "stream",
          "name": "stdout",
          "text": [
            "Enter a number: 8208\n",
            "Armstrong number\n"
          ]
        }
      ]
    },
    {
      "cell_type": "markdown",
      "metadata": {
        "id": "12c89232"
      },
      "source": [
        "This code checks if a given number is an Armstrong number. Here's a breakdown of how it works:\n",
        "\n",
        "1.  **`n=int(input(\"Enter a number: \"))`**: Prompts the user to enter a number and converts it to an integer, storing it in `n`.\n",
        "2.  **`t=n`**: Stores the original number in variable `t` for later comparison.\n",
        "3.  **`sum=0`**: Initializes a variable `sum` to 0, which will store the calculated sum of the digits raised to the power of the number of digits.\n",
        "4.  **`l=len(str(n))`**: Converts the number `n` to a string to find its length (the number of digits). This length is stored in variable `l`. This is crucial for checking Armstrong numbers of any number of digits.\n",
        "5.  **`while(n>0):`**: Starts a loop that continues as long as `n` is greater than 0. This loop iterates through each digit of the number.\n",
        "6.  **`rem = n%10`**: Extracts the last digit of `n` using the modulo operator (`%`) and stores it in `rem`.\n",
        "7.  **`sum = sum + rem**l`**: Raises the extracted digit (`rem`) to the power of the number of digits (`l`) and adds it to the `sum`.\n",
        "8.  **`n//=10`**: Divides `n` by 10 using integer division (`//`) to remove the last digit and move to the next digit in the number.\n",
        "9.  **`if sum == t:`**: After the loop finishes, it compares the calculated `sum` with the original number (`t`).\n",
        "10. **`print(\"Armstrong number\")`**: If they are equal, it prints \"Armstrong number\".\n",
        "11. **`else: print(\"Not an armstrong number\")`**: Otherwise, it prints \"Not an armstrong number\".\n",
        "\n",
        "This code is a correct implementation for checking if a number is an Armstrong number for any number of digits because it dynamically calculates the number of digits (`l`) and uses that as the exponent."
      ]
    },
    {
      "cell_type": "markdown",
      "source": [
        "### **write all the amstrong number bw 1-1000**"
      ],
      "metadata": {
        "id": "kT1TLzchxXxn"
      }
    },
    {
      "cell_type": "code",
      "source": [
        "num=1\n",
        "while num<=1000:\n",
        "  n=numsum=0\n",
        "\n",
        "  while n>0:\n",
        "    r=n%10\n",
        "    sum=sum+r*r*r\n",
        "    n=n//10\n",
        "if sum==num:\n",
        "    print(f'{num}')"
      ],
      "metadata": {
        "id": "TTmJW3RLxgUX",
        "colab": {
          "base_uri": "https://localhost:8080/",
          "height": 211
        },
        "outputId": "3b3e8105-e700-466e-de76-71317c3842fa"
      },
      "execution_count": null,
      "outputs": [
        {
          "output_type": "error",
          "ename": "KeyboardInterrupt",
          "evalue": "",
          "traceback": [
            "\u001b[0;31m---------------------------------------------------------------------------\u001b[0m",
            "\u001b[0;31mKeyboardInterrupt\u001b[0m                         Traceback (most recent call last)",
            "\u001b[0;32m/tmp/ipython-input-3549752109.py\u001b[0m in \u001b[0;36m<cell line: 0>\u001b[0;34m()\u001b[0m\n\u001b[1;32m      1\u001b[0m \u001b[0mnum\u001b[0m\u001b[0;34m=\u001b[0m\u001b[0;36m1\u001b[0m\u001b[0;34m\u001b[0m\u001b[0;34m\u001b[0m\u001b[0m\n\u001b[0;32m----> 2\u001b[0;31m \u001b[0;32mwhile\u001b[0m \u001b[0mnum\u001b[0m\u001b[0;34m<=\u001b[0m\u001b[0;36m1000\u001b[0m\u001b[0;34m:\u001b[0m\u001b[0;34m\u001b[0m\u001b[0;34m\u001b[0m\u001b[0m\n\u001b[0m\u001b[1;32m      3\u001b[0m   \u001b[0mn\u001b[0m\u001b[0;34m=\u001b[0m\u001b[0mnumsum\u001b[0m\u001b[0;34m=\u001b[0m\u001b[0;36m0\u001b[0m\u001b[0;34m\u001b[0m\u001b[0;34m\u001b[0m\u001b[0m\n\u001b[1;32m      4\u001b[0m \u001b[0;34m\u001b[0m\u001b[0m\n\u001b[1;32m      5\u001b[0m   \u001b[0;32mwhile\u001b[0m \u001b[0mn\u001b[0m\u001b[0;34m>\u001b[0m\u001b[0;36m0\u001b[0m\u001b[0;34m:\u001b[0m\u001b[0;34m\u001b[0m\u001b[0;34m\u001b[0m\u001b[0m\n",
            "\u001b[0;31mKeyboardInterrupt\u001b[0m: "
          ]
        }
      ]
    },
    {
      "cell_type": "markdown",
      "source": [
        "# Wrong Subtraction\n",
        "\n",
        "\n",
        "time limit per test1 second\n",
        "\n",
        "memory limit per test256 megabytes\n",
        "\n",
        "Little girl Tanya is learning how to decrease a number by one, but she does it wrong with a number consisting of two or more digits. Tanya subtracts one from a number by the following algorithm:\n",
        "\n",
        "\n",
        "if the last digit of the number is non-zero, she decreases the number by one;\n",
        "if the last digit of the number is zero, she divides the number by 10 (i.e. removes the last digit).\n",
        "\n",
        "You are given an integer number n\n",
        "\n",
        ". Tanya will subtract one from it k\n",
        "\n",
        " times. Your task is to print the result after all k\n",
        " subtractions.\n",
        "\n",
        "It is guaranteed that the result will be positive integer number.\n",
        "\n",
        "\n",
        "Input\n",
        "\n",
        "The first line of the input contains two integer numbers n\n",
        " and k\n",
        " (2≤n≤109\n",
        ", 1≤k≤50\n",
        ") — the number from which Tanya will subtract and the number of subtractions correspondingly.\n",
        "\n",
        "Output\n",
        "\n",
        "Print one integer number — the result of the decreasing n\n",
        " by one k\n",
        " times.\n",
        "\n",
        "It is guaranteed that the result will be positive integer number.\n",
        "\n",
        "Examples\n",
        "Input\n",
        "512 4\n",
        "Output\n",
        "50\n",
        "Input\n",
        "1000000000 9\n",
        "\n",
        "Output\n",
        "1\n",
        "\n",
        "Note\n",
        "The first example corresponds to the following sequence: 512→511→510→51→50\n",
        ".\n",
        "\n",
        "\n"
      ],
      "metadata": {
        "id": "N4Xg1GX7lliU"
      }
    },
    {
      "cell_type": "code",
      "source": [
        "a,b=map(int,input().split())\n",
        "for _ in range(b):\n",
        "  if a%10==0:\n",
        "    a//=10\n",
        "  else:\n",
        "    a-=1\n",
        "print(a)"
      ],
      "metadata": {
        "colab": {
          "base_uri": "https://localhost:8080/"
        },
        "id": "sKPTnu1BlUqU",
        "outputId": "404b9348-6003-4f48-990d-5074b09790e2"
      },
      "execution_count": null,
      "outputs": [
        {
          "output_type": "stream",
          "name": "stdout",
          "text": [
            "512 4\n",
            "50\n"
          ]
        }
      ]
    },
    {
      "cell_type": "markdown",
      "source": [
        "#**LIST**"
      ],
      "metadata": {
        "id": "p8V8Qe-LtpxL"
      }
    },
    {
      "cell_type": "markdown",
      "source": [
        "LIST IS AN ORDERED COLLECTION OF ITEM\n",
        "\n",
        "ITEMS COULD BE OF ANY PYTHON DATA TYPE\n",
        "10,'PYTHON',10.0\n",
        "\n",
        "## Insertion into list\n",
        "\n",
        "append():\n",
        "add element to the end of the list\n",
        "\n",
        "\n",
        "\n",
        "extend():\n",
        "add all element of a list into another list\n",
        "\n",
        "\n",
        "\n",
        "insert():\n",
        "insert an item at a defined index\n",
        "\n",
        "## Removal from list\n",
        "\n",
        "remove():\n",
        "remove an element by its value from the list\n",
        "\n",
        "\n",
        "pop():\n",
        "removes the last item form the list or removes an item by its index from the list\n",
        "\n",
        "\n",
        "clear():\n",
        "removes all items fron the list\n",
        "\n",
        "\n",
        "##List methods\n",
        "\n",
        "index():\n",
        "returns the index from the list\n",
        "\n",
        "count():\n",
        "returns the count of number of items passed as an argument\n",
        "\n",
        "copy():\n",
        "returns the copy of the list\n",
        "\n",
        "sort():\n",
        "sorting the order of the item in the list\n",
        "\n",
        "reverse():\n",
        "reversing the list\n",
        "\n",
        "## list built in function\n",
        "\n",
        "all():\n",
        "returns true if all the elements is true or if list is emoty\n",
        "\n",
        "any():\n",
        "returns true if any element of the list is true .if the list is empty return false\n",
        "\n",
        "len(): returns the length of the list\n",
        "\n",
        "sum(): returns the sum of the list\n",
        "\n",
        "min(): returns the minimum value there in the list\n",
        "\n",
        "max():returns the maximum value there in the list\n",
        "\n",
        "# Slicing in a list\n",
        "\n",
        "L [:]     prints all the elements in the list\n",
        "\n",
        "L [2:]    prints all the elements from the list starting from the index 2\n",
        "\n",
        "L [:5]    prints all the elenment from the list till the ending index 4\n",
        "\n",
        "L [2:6]   prints all the elements from the list from index 2 to 5\n",
        "\n",
        "L [-4:-2] prints the element from the list from index -4 till index -3\n",
        "\n",
        "L [::2]    prints all the elements from the list with step (index+2 elements)from the begining\n",
        "\n",
        "L [::-1]   prints all the elements from the list with step 1(index+1) from the last\n",
        "\n",
        "L [1:6:3]  prints all the elements from the list from index+1 till index 5 with step 3\n",
        "\n",
        "\n",
        "\n",
        "\n",
        "tuple and list are same but list is modifyable while tuple is not\n",
        "\n"
      ],
      "metadata": {
        "id": "ckSVuX4gtzuS"
      }
    },
    {
      "cell_type": "code",
      "source": [
        "# methods of giving input to list\n",
        "# 1\n",
        "\n",
        "ls=[1,2,3,4,5,6]\n",
        "print(ls)\n"
      ],
      "metadata": {
        "colab": {
          "base_uri": "https://localhost:8080/"
        },
        "id": "RFU2ZUERojct",
        "outputId": "f0fbf6fb-7789-415f-d5ff-808399862eac"
      },
      "execution_count": null,
      "outputs": [
        {
          "output_type": "stream",
          "name": "stdout",
          "text": [
            "[1, 2, 3, 4, 5, 6]\n"
          ]
        }
      ]
    },
    {
      "cell_type": "code",
      "source": [
        "# 2\n",
        "ls=list(map(int,input().split()))\n",
        "print(ls)\n"
      ],
      "metadata": {
        "colab": {
          "base_uri": "https://localhost:8080/"
        },
        "id": "i7l-x8Wlvd2r",
        "outputId": "a5617057-c37b-45ac-fe19-bce4676bb45f"
      },
      "execution_count": null,
      "outputs": [
        {
          "output_type": "stream",
          "name": "stdout",
          "text": [
            "1 2 3 4 5 \n",
            "[1, 2, 3, 4, 5]\n"
          ]
        }
      ]
    },
    {
      "cell_type": "code",
      "source": [
        "# 3\n",
        "l=input('enter the elements').split()  # this method by default takes input in the form of string to change tht we need to use the above mentioned map method\n",
        "print(l)"
      ],
      "metadata": {
        "colab": {
          "base_uri": "https://localhost:8080/"
        },
        "id": "trduhgk0vmtb",
        "outputId": "a80e4c31-c254-4b7e-ec86-ea55708c6e6e"
      },
      "execution_count": null,
      "outputs": [
        {
          "output_type": "stream",
          "name": "stdout",
          "text": [
            "enter the elements1 2 3 4 5 \n",
            "['1', '2', '3', '4', '5']\n"
          ]
        }
      ]
    },
    {
      "cell_type": "code",
      "source": [
        "# 4\n",
        "l=[]\n",
        "n=int(input(\"enter the number of the element\"))\n",
        "for i in range(n):\n",
        "  k=int(input(\"enter the element\"))\n",
        "  l.append(k)\n",
        "print(l)"
      ],
      "metadata": {
        "colab": {
          "base_uri": "https://localhost:8080/"
        },
        "id": "elBZZktbwAHz",
        "outputId": "4cb5eef2-74a6-4418-ea5c-953d330440f3"
      },
      "execution_count": null,
      "outputs": [
        {
          "output_type": "stream",
          "name": "stdout",
          "text": [
            "enter the number of the element3\n",
            "enter the element1 \n",
            "enter the element2\n",
            "enter the element3\n",
            "[1, 2, 3]\n"
          ]
        }
      ]
    },
    {
      "cell_type": "code",
      "source": [
        "\n",
        "4# small probllem\n",
        "l=[1,2,3,4,5]\n",
        "for i in range(1,4):\n",
        "  l[i-2]=l[i]\n",
        "for i in range(0,4):\n",
        "  print(l[i],end=\" \")"
      ],
      "metadata": {
        "colab": {
          "base_uri": "https://localhost:8080/"
        },
        "id": "0mDUMb7xx9vD",
        "outputId": "0ff555f8-ad4b-4c90-eb5f-70235009e113"
      },
      "execution_count": null,
      "outputs": [
        {
          "output_type": "stream",
          "name": "stdout",
          "text": [
            "3 4 3 4 "
          ]
        }
      ]
    },
    {
      "cell_type": "code",
      "source": [
        "l=[1,2,3,4,]\n",
        "l.append(1)            # adds element in the end\n",
        "print(l)"
      ],
      "metadata": {
        "colab": {
          "base_uri": "https://localhost:8080/"
        },
        "id": "8A8YnP14zO7b",
        "outputId": "25e87b0e-a16c-48e9-eca9-551281517442"
      },
      "execution_count": null,
      "outputs": [
        {
          "output_type": "stream",
          "name": "stdout",
          "text": [
            "[1, 2, 3, 4, 1]\n"
          ]
        }
      ]
    },
    {
      "cell_type": "code",
      "source": [
        "# or\n",
        "l.append([1,2,3,4])     #adds the entire thing with 1 index at the end\n",
        "print(l)"
      ],
      "metadata": {
        "colab": {
          "base_uri": "https://localhost:8080/"
        },
        "id": "g3DEft2i0ZL7",
        "outputId": "4415f359-8cb6-4cf0-b7c8-0a0cdd50921c"
      },
      "execution_count": null,
      "outputs": [
        {
          "output_type": "stream",
          "name": "stdout",
          "text": [
            "[1, 2, 3, 4, 1, [1, 2, 3, 4]]\n"
          ]
        }
      ]
    },
    {
      "cell_type": "code",
      "source": [
        "l.extend([1,2,3,4])      # adds all the elements with each having 1 index dosent work for one element if one element is gven inside extend then throws error\n",
        "print(l)\n"
      ],
      "metadata": {
        "colab": {
          "base_uri": "https://localhost:8080/"
        },
        "id": "kwq_zzkr0erj",
        "outputId": "0f203d36-fddf-4e52-9c30-2f1c483fab1d"
      },
      "execution_count": null,
      "outputs": [
        {
          "output_type": "stream",
          "name": "stdout",
          "text": [
            "[1, 2, 3, 4, 1, [1, 2, 3, 4], 1, 2, 3, 4]\n"
          ]
        }
      ]
    },
    {
      "cell_type": "code",
      "source": [
        "l.insert(2,'python')   # insert at mentioned position\n",
        "print(l)"
      ],
      "metadata": {
        "colab": {
          "base_uri": "https://localhost:8080/"
        },
        "id": "trRjsvUy1VXL",
        "outputId": "7a0093ec-d684-439e-f373-bd21e69d16fb"
      },
      "execution_count": null,
      "outputs": [
        {
          "output_type": "stream",
          "name": "stdout",
          "text": [
            "[1, 2, 'python', 3, 4, 1, [1, 2, 3, 4], 1, 2, 3, 4]\n"
          ]
        }
      ]
    },
    {
      "cell_type": "markdown",
      "source": [],
      "metadata": {
        "id": "q5ScUMs18x6j"
      }
    },
    {
      "cell_type": "code",
      "source": [
        "l.pop()                 # removes elements from the end\n",
        "print(l)"
      ],
      "metadata": {
        "colab": {
          "base_uri": "https://localhost:8080/"
        },
        "id": "RMDLvwK61ikC",
        "outputId": "52678952-40a3-40f6-b0da-d5c7c59b1cfd"
      },
      "execution_count": null,
      "outputs": [
        {
          "output_type": "stream",
          "name": "stdout",
          "text": [
            "[1, 2, 'python', 3, 4, 1, [1, 2, 3, 4], 1, 2, 3]\n"
          ]
        }
      ]
    },
    {
      "cell_type": "code",
      "source": [
        "l.remove('python')              # removes the mentioned element\n",
        "print(l)"
      ],
      "metadata": {
        "colab": {
          "base_uri": "https://localhost:8080/"
        },
        "id": "5h4Vr8eV-A5L",
        "outputId": "66f26981-f6d8-4216-c7d3-4652b92ef0cc"
      },
      "execution_count": null,
      "outputs": [
        {
          "output_type": "stream",
          "name": "stdout",
          "text": [
            "[1, 2, 3, 4, 1, [1, 2, 3, 4], 1, 2, 3]\n"
          ]
        }
      ]
    },
    {
      "cell_type": "code",
      "source": [
        "l.pop(5)             # removes element from the mentioned index\n",
        "print(l)"
      ],
      "metadata": {
        "colab": {
          "base_uri": "https://localhost:8080/"
        },
        "id": "r4lk3Kbi-GKK",
        "outputId": "defdeb24-7a70-4977-9619-1488a6dca4d3"
      },
      "execution_count": null,
      "outputs": [
        {
          "output_type": "stream",
          "name": "stdout",
          "text": [
            "[1, 2, 3, 4, 1, 1, 2, 3]\n"
          ]
        }
      ]
    },
    {
      "cell_type": "code",
      "source": [
        "l.clear()            # removes all the element from the list"
      ],
      "metadata": {
        "id": "GUYwabW--1sL"
      },
      "execution_count": null,
      "outputs": []
    },
    {
      "cell_type": "markdown",
      "source": [],
      "metadata": {
        "id": "3pizR6up_BJS"
      }
    },
    {
      "cell_type": "code",
      "source": [
        "l=[15,2,10,5,2,3,]\n",
        "print(l.index(2))"
      ],
      "metadata": {
        "colab": {
          "base_uri": "https://localhost:8080/"
        },
        "id": "yF0mUf3n-8q6",
        "outputId": "d16f6e90-6230-4b78-db86-ad3c3b48ff4b"
      },
      "execution_count": null,
      "outputs": [
        {
          "output_type": "stream",
          "name": "stdout",
          "text": [
            "1\n"
          ]
        }
      ]
    },
    {
      "cell_type": "code",
      "source": [
        "print(l.count(2))"
      ],
      "metadata": {
        "colab": {
          "base_uri": "https://localhost:8080/"
        },
        "id": "9_iKKWvJ_mxC",
        "outputId": "9c29e483-fb71-4b02-823f-4898fe6862a8"
      },
      "execution_count": null,
      "outputs": [
        {
          "output_type": "stream",
          "name": "stdout",
          "text": [
            "2\n"
          ]
        }
      ]
    },
    {
      "cell_type": "code",
      "source": [
        "l1=l.copy()\n",
        "print(l1)"
      ],
      "metadata": {
        "colab": {
          "base_uri": "https://localhost:8080/"
        },
        "id": "XcMtWT1gBynC",
        "outputId": "9daed5ed-8fd0-4a0c-81b8-117eb907e9b0"
      },
      "execution_count": null,
      "outputs": [
        {
          "output_type": "stream",
          "name": "stdout",
          "text": [
            "[15, 2, 10, 5, 2, 3]\n"
          ]
        }
      ]
    },
    {
      "cell_type": "code",
      "source": [
        "l2=l.sort()\n",
        "print(l)       # if print(l2) is given then it wont be printed why?"
      ],
      "metadata": {
        "colab": {
          "base_uri": "https://localhost:8080/"
        },
        "id": "p4cPK1PuB74C",
        "outputId": "2d9552dc-6ccc-4fdb-f4c6-e4b765490193"
      },
      "execution_count": null,
      "outputs": [
        {
          "output_type": "stream",
          "name": "stdout",
          "text": [
            "[2, 2, 3, 5, 10, 15]\n"
          ]
        }
      ]
    },
    {
      "cell_type": "code",
      "source": [
        "l2=l.sort(reverse=True)\n",
        "print(l)"
      ],
      "metadata": {
        "colab": {
          "base_uri": "https://localhost:8080/"
        },
        "id": "fnIYOCYsCRO6",
        "outputId": "3a9a0fa7-f562-4c64-b8c9-00cbb5374ed4"
      },
      "execution_count": null,
      "outputs": [
        {
          "output_type": "stream",
          "name": "stdout",
          "text": [
            "[15, 10, 5, 3, 2, 2]\n"
          ]
        }
      ]
    },
    {
      "cell_type": "code",
      "source": [
        "# slicing\n",
        "\n",
        "l=[1,2,3,4,5,6]\n",
        "print(l[:])\n",
        "print(l[2:])\n",
        "print(l[:5])\n",
        "print(l[2:6])\n",
        "print(l[-4:-2])\n",
        "print(l[::2])\n",
        "print(l[::-1])"
      ],
      "metadata": {
        "id": "jOfM4vOTDRfq",
        "colab": {
          "base_uri": "https://localhost:8080/"
        },
        "outputId": "d79bcf98-2bbe-4542-fd7d-be302317b74e"
      },
      "execution_count": null,
      "outputs": [
        {
          "output_type": "stream",
          "name": "stdout",
          "text": [
            "[1, 2, 3, 4, 5, 6]\n",
            "[3, 4, 5, 6]\n",
            "[1, 2, 3, 4, 5]\n",
            "[3, 4, 5, 6]\n",
            "[3, 4]\n",
            "[1, 3, 5]\n",
            "[6, 5, 4, 3, 2, 1]\n"
          ]
        }
      ]
    },
    {
      "cell_type": "markdown",
      "source": [
        "#1) TAKE 2 DIFFERENT LISTS ,MERGE THEM AND PRINT A NEW SORTED LIST"
      ],
      "metadata": {
        "id": "EI7_VSw-GADT"
      }
    },
    {
      "cell_type": "code",
      "source": [
        "l1=list(map(int,input(\"enter the elements of stack\").split()))\n",
        "l2=list(map(int,input(\"enter the elements of stack\").split()))\n",
        "l3=l1+l2\n",
        "l3.sort()\n",
        "print(l3)\n"
      ],
      "metadata": {
        "colab": {
          "base_uri": "https://localhost:8080/"
        },
        "id": "k1YHEJzWGLpB",
        "outputId": "d19b8442-d981-4872-b1fb-5f96a1eb308a"
      },
      "execution_count": null,
      "outputs": [
        {
          "output_type": "stream",
          "name": "stdout",
          "text": [
            "enter the elements of stack1 4 6 8 \n",
            "enter the elements of stack2 4 6 7 9 \n",
            "[1, 2, 4, 4, 6, 6, 7, 8, 9]\n"
          ]
        }
      ]
    },
    {
      "cell_type": "markdown",
      "source": [
        "# 2) Display the sum of even integers present in the odd index in a list"
      ],
      "metadata": {
        "id": "lMDHOKCbJG2C"
      }
    },
    {
      "cell_type": "code",
      "source": [
        "  l=[2,1,2,3,4,5,6,7,2]\n",
        "sum=0\n",
        "for i in range(len(l)):\n",
        "  if i%2!=0 and l[i]%2==0:\n",
        "    sum+=l[i]\n",
        "print(sum)"
      ],
      "metadata": {
        "colab": {
          "base_uri": "https://localhost:8080/"
        },
        "id": "YxOtsAxnHKaa",
        "outputId": "092f07de-1556-49dd-e28b-e36edfb2ed55"
      },
      "execution_count": null,
      "outputs": [
        {
          "output_type": "stream",
          "name": "stdout",
          "text": [
            "0\n"
          ]
        }
      ]
    },
    {
      "cell_type": "markdown",
      "source": [
        "# 3)Print the list after deleting the duplicate elements  in it"
      ],
      "metadata": {
        "id": "LWC2pDUxXpC6"
      }
    },
    {
      "cell_type": "code",
      "source": [
        "l1=list(map(int,input().split()))\n",
        "l2=[]\n",
        "for i in l1:\n",
        "  if i not in l2:                        ## how to use in and not in in lists\n",
        "    l2.append(i)\n",
        "print(l2)"
      ],
      "metadata": {
        "colab": {
          "base_uri": "https://localhost:8080/"
        },
        "id": "zZn9MfrSJyg6",
        "outputId": "a20813af-a543-4d07-9be9-508db68f193b"
      },
      "execution_count": null,
      "outputs": [
        {
          "output_type": "stream",
          "name": "stdout",
          "text": [
            "1 2 3 4 4 3 2 1 4 5 6 7 8 \n",
            "[1, 2, 3, 4, 5, 6, 7, 8]\n"
          ]
        }
      ]
    },
    {
      "cell_type": "markdown",
      "source": [
        "#4)Print the elements in the list which are occured odd number of times\n"
      ],
      "metadata": {
        "id": "MKm1BR0Nb6gY"
      }
    },
    {
      "cell_type": "code",
      "source": [
        "l1=list(map(int,input().split()))\n",
        "l2=[]\n",
        "for i in range(len(l1)):\n",
        "  if l1[i]%2!=0 and l2 not in l1:\n",
        "    l2.append(l1[i])\n",
        "print(l2)\n"
      ],
      "metadata": {
        "colab": {
          "base_uri": "https://localhost:8080/"
        },
        "id": "hqcBQqfLYlQq",
        "outputId": "d259368c-9b52-4faa-fa71-e2641ccd756f"
      },
      "execution_count": null,
      "outputs": [
        {
          "output_type": "stream",
          "name": "stdout",
          "text": [
            "1 2 3 3 4 4 5 5 5\n",
            "[1, 3, 3, 5, 5, 5]\n"
          ]
        }
      ]
    },
    {
      "cell_type": "markdown",
      "source": [
        "# 5)read a list and print the sum of 3 minimum elements in the list |"
      ],
      "metadata": {
        "id": "B65gUpbEfvBx"
      }
    },
    {
      "cell_type": "code",
      "source": [
        "del sum"
      ],
      "metadata": {
        "id": "TQfHbuehgm5B"
      },
      "execution_count": null,
      "outputs": []
    },
    {
      "cell_type": "code",
      "source": [
        "a=list(map(int,input().split()))\n",
        "a.sort()\n",
        "print(sum(a[:3]))"
      ],
      "metadata": {
        "colab": {
          "base_uri": "https://localhost:8080/"
        },
        "id": "vIP8BfetcwEp",
        "outputId": "20943c8b-d2d4-4a95-cc64-7fbe3d746f82"
      },
      "execution_count": null,
      "outputs": [
        {
          "output_type": "stream",
          "name": "stdout",
          "text": [
            "2 1 3 4 5 6 \n",
            "6\n"
          ]
        }
      ]
    },
    {
      "cell_type": "markdown",
      "source": [
        "#6) print the list where even number in ascending order in one list and odd numbers in decending order and at last concatinate both"
      ],
      "metadata": {
        "id": "kQEym7RCke7o"
      }
    },
    {
      "cell_type": "code",
      "source": [
        "l=list(map(int,input().split()))\n",
        "l.sort()\n",
        "res=[]\n",
        "for i in l:\n",
        "  if i%2!=0:\n",
        "    res.append(i)\n",
        "  else:\n",
        "    res.insert(0,i)\n",
        "print(res)"
      ],
      "metadata": {
        "colab": {
          "base_uri": "https://localhost:8080/"
        },
        "id": "s3xCkiVrhwtY",
        "outputId": "7c9df443-d0ea-448f-cb45-1b8328716da2"
      },
      "execution_count": null,
      "outputs": [
        {
          "output_type": "stream",
          "name": "stdout",
          "text": [
            "1 2 4 3 6 5 6 \n",
            "[6, 6, 4, 2, 1, 3, 5]\n"
          ]
        }
      ]
    },
    {
      "cell_type": "markdown",
      "source": [
        "#6)find the sum of last k elements of t he list"
      ],
      "metadata": {
        "id": "mh4iJ6L-k0Yw"
      }
    },
    {
      "cell_type": "code",
      "source": [
        "k= int(input(\"enter the number \"))\n",
        "l1=list(map(int,input().split()))\n",
        "print(sum(l1[-k:]))"
      ],
      "metadata": {
        "colab": {
          "base_uri": "https://localhost:8080/"
        },
        "id": "5fWlXwEQjYoX",
        "outputId": "a473b77f-fe3b-471d-fa26-d02663529389"
      },
      "execution_count": null,
      "outputs": [
        {
          "output_type": "stream",
          "name": "stdout",
          "text": [
            "enter the number 3\n",
            "1 2 3 4 5 6 7 \n",
            "18\n"
          ]
        }
      ]
    },
    {
      "cell_type": "markdown",
      "source": [
        "#7) check if the list contains consecutive number and return true"
      ],
      "metadata": {
        "id": "8DXeur-EnPxA"
      }
    },
    {
      "cell_type": "code",
      "source": [
        "l1=list(map(int,input().split()))\n",
        "for i in range(len(l1) - 1): # Loop up to the second to last element\n",
        "  if l1[i+1]-l1[i]!=1:\n",
        "    print(\"false\")\n",
        "    break\n",
        "else:\n",
        "  print('true')"
      ],
      "metadata": {
        "colab": {
          "base_uri": "https://localhost:8080/"
        },
        "id": "Xzt-himcokUI",
        "outputId": "3232319c-16b3-49ee-d46a-0f7a3ad12b8f"
      },
      "execution_count": null,
      "outputs": [
        {
          "output_type": "stream",
          "name": "stdout",
          "text": [
            "2 3 1 4 6\n",
            "false\n"
          ]
        }
      ]
    },
    {
      "cell_type": "markdown",
      "source": [
        "#8) Police Recruits\n",
        "time limit per test1 second\n",
        "\n",
        "memory limit per test256 megabytes\n",
        "\n",
        "The police department of your city has just started its journey. Initially, they don’t have any manpower. So, they started hiring new recruits in groups.\n",
        "\n",
        "Meanwhile, crimes keeps occurring within the city. One member of the police force can investigate only one crime during his/her lifetime.\n",
        "\n",
        "If there is no police officer free (isn't busy with crime) during the occurrence of a crime, it will go untreated.\n",
        "\n",
        "Given the chronological order of crime occurrences and recruit hirings, find the number of crimes which will go untreated.\n",
        "\n",
        "Input\n",
        "The first line of input will contain an integer n (1 ≤ n ≤ 105), the number of events. The next line will contain n space-separated integers.\n",
        "\n",
        "If the integer is -1 then it means a crime has occurred. Otherwise, the integer will be positive, the number of officers recruited together at that time. No more than 10 officers will be recruited at a time.\n",
        "\n",
        "Output\n",
        "\n",
        "Print a single integer, the number of crimes which will go untreated.\n",
        "\n",
        "Examples\n",
        "\n",
        "Input\n",
        "\n",
        "3\n",
        "\n",
        "-1 -1 1\n",
        "\n",
        "Output\n",
        "\n",
        "2\n",
        "\n",
        "Input\n",
        "\n",
        "8\n",
        "\n",
        "1 -1 1 -1 -1 1 1 1\n",
        "\n",
        "Output\n",
        "\n",
        "1\n",
        "\n",
        "Input\n",
        "\n",
        "11\n",
        "\n",
        "-1 -1 2 -1 -1 -1 -1 -1 -1 -1 -1\n",
        "\n",
        "Output\n",
        "\n",
        "8\n",
        "\n",
        "Note\n",
        "\n",
        "Lets consider the second example:\n",
        "\n",
        "\n",
        "Firstly one person is hired.\n",
        "\n",
        "Then crime appears, the last hired person will investigate this crime.\n",
        "\n",
        "One more person is hired.\n",
        "\n",
        "One more crime appears, the last hired person will investigate this crime.\n",
        "\n",
        "Crime appears. There is no free policeman at the time, so this crime will go\n",
        "untreated.\n",
        "\n",
        "One more person is hired.\n",
        "\n",
        "One more person is hired.\n",
        "\n",
        "One more person is hired.\n",
        "\n",
        "The answer is one, as one crime (on step 5) will go untreated.\n",
        "\n"
      ],
      "metadata": {
        "id": "WRq7ZWB4ngm2"
      }
    },
    {
      "cell_type": "code",
      "source": [
        "n=int(input( ))\n",
        "l=list(map(int,input().split()))\n",
        "police=0\n",
        "crime=0\n",
        "unsolved=0\n",
        "for i in l:\n",
        "  if  i==-1:\n",
        "    if police>0:\n",
        "      police-=1\n",
        "    else:\n",
        "      unsolved+=1\n",
        "  else:\n",
        "    police+=i\n",
        "print(unsolved)\n"
      ],
      "metadata": {
        "colab": {
          "base_uri": "https://localhost:8080/"
        },
        "id": "NnZvaPPkoJg2",
        "outputId": "49adde0f-60da-499a-bc22-e4cfe1172abe"
      },
      "execution_count": null,
      "outputs": [
        {
          "output_type": "stream",
          "name": "stdout",
          "text": [
            "3\n",
            "-1 -1 1\n",
            "2\n"
          ]
        }
      ]
    },
    {
      "cell_type": "markdown",
      "metadata": {
        "id": "765731d2"
      },
      "source": [
        "This code helps track how many crimes go unsolved when police officers are hired and crimes occur.\n",
        "\n",
        "Here's the simple idea:\n",
        "\n",
        "*   We start with no police officers and no unsolved crimes.\n",
        "*   We look at each event one by one.\n",
        "*   If a positive number appears, it means new police officers are hired, so we add them to our count of available police.\n",
        "*   If a -1 appears, it means a crime happened.\n",
        "    *   If we have police officers available, one officer deals with the crime, and our available police count goes down by one.\n",
        "    *   If we have no police officers available, the crime cannot be solved, and we add one to our count of unsolved crimes.\n",
        "*   Finally, we print the total number of crimes that couldn't be solved because there were no police available at that moment.\n"
      ]
    },
    {
      "cell_type": "markdown",
      "source": [],
      "metadata": {
        "id": "A_fl1stxwkig"
      }
    },
    {
      "cell_type": "code",
      "source": [
        "l=list(map(int,input().split()))\n",
        "m,count=0,0\n",
        "for i in l:\n",
        "  if i>m:\n",
        "    m=i\n",
        "    count+=1\n",
        "print(count)\n",
        "\n"
      ],
      "metadata": {
        "colab": {
          "base_uri": "https://localhost:8080/"
        },
        "id": "69za_qAptwXR",
        "outputId": "ea62da3e-dafd-44b5-a380-464fb49b7cb8"
      },
      "execution_count": null,
      "outputs": [
        {
          "output_type": "stream",
          "name": "stdout",
          "text": [
            "2 3 4 3 3 4 3 \n",
            "3\n"
          ]
        }
      ]
    },
    {
      "cell_type": "markdown",
      "source": [
        "#9)remove the second largest element in the list"
      ],
      "metadata": {
        "id": "ZGu-iuV-1XRd"
      }
    },
    {
      "cell_type": "code",
      "source": [
        "l=list(map(int,input().split()))\n",
        "m,n=0,0\n",
        "for i in l:\n",
        "  if i>m:\n",
        "    m=i\n",
        "for i in l:\n",
        "  if i>n and i!=m:\n",
        "    n=i\n",
        "\n",
        "print(n)\n",
        "\n",
        "\n",
        "# optimized\n",
        "\n",
        "l=list(map(int,input().split()))\n",
        "m,n=0,0\n",
        "for i in l:\n",
        "  if i>m:\n",
        "    n=m\n",
        "    m=i\n",
        "  elif i>n and i!=m:\n",
        "    n=i\n",
        "\n",
        "\n",
        "print(n)\n"
      ],
      "metadata": {
        "colab": {
          "base_uri": "https://localhost:8080/"
        },
        "id": "6pmRhSbUx8yw",
        "outputId": "b704d6f0-d65f-4606-bcaa-81ebd899dcd8"
      },
      "execution_count": null,
      "outputs": [
        {
          "output_type": "stream",
          "name": "stdout",
          "text": [
            "1 2 3 4 5 \n",
            "4\n",
            "6 5 4 3 2 1 \n",
            "5\n"
          ]
        }
      ]
    },
    {
      "cell_type": "markdown",
      "source": [
        "#10)get an input and find the exor of the sequence ex input is 5 return 1^2^3^4^5"
      ],
      "metadata": {
        "id": "tl6WOyw6EMLu"
      }
    },
    {
      "cell_type": "code",
      "source": [
        "n= int(input('enter a num\"'))\n",
        "if n%4==1:\n",
        "  print(1)\n",
        "elif n%4==2:\n",
        "  print(n+1)\n",
        "elif n%4==3:\n",
        "  print(0)\n",
        "elif n%4==0:\n",
        "  print(n)"
      ],
      "metadata": {
        "colab": {
          "base_uri": "https://localhost:8080/"
        },
        "id": "NH-HzlsN28eF",
        "outputId": "7588c782-35e9-4221-aa82-ee06d4e20f36"
      },
      "execution_count": null,
      "outputs": [
        {
          "output_type": "stream",
          "name": "stdout",
          "text": [
            "enter a num\"5\n",
            "1\n"
          ]
        }
      ]
    },
    {
      "cell_type": "code",
      "source": [
        "\n",
        "\n",
        "4%5\n"
      ],
      "metadata": {
        "colab": {
          "base_uri": "https://localhost:8080/"
        },
        "id": "3q7aFcd7HynV",
        "outputId": "4cbfc837-8db2-4cfe-9dd2-76c78e50c42b"
      },
      "execution_count": null,
      "outputs": [
        {
          "output_type": "execute_result",
          "data": {
            "text/plain": [
              "4"
            ]
          },
          "metadata": {},
          "execution_count": 24
        }
      ]
    },
    {
      "cell_type": "code",
      "source": [
        "5%4"
      ],
      "metadata": {
        "colab": {
          "base_uri": "https://localhost:8080/"
        },
        "id": "tJcMAFfxO9t5",
        "outputId": "c96e1156-b792-4749-8976-1a50d9887c94"
      },
      "execution_count": null,
      "outputs": [
        {
          "output_type": "execute_result",
          "data": {
            "text/plain": [
              "1"
            ]
          },
          "metadata": {},
          "execution_count": 25
        }
      ]
    },
    {
      "cell_type": "markdown",
      "source": [
        "#11)a number will be given in integer form check the number of one in its binary form"
      ],
      "metadata": {
        "id": "FwnvF5otQb5R"
      }
    },
    {
      "cell_type": "code",
      "source": [
        "n=int(input(\"enter a number\"))\n",
        "count=0\n",
        "while(n):\n",
        "  n=n&(n-1)\n",
        "  count+=1\n",
        "print(count)"
      ],
      "metadata": {
        "colab": {
          "base_uri": "https://localhost:8080/"
        },
        "id": "LogH8BlcQbK_",
        "outputId": "321ee120-6890-4ec7-9074-eb9f4d85c43b"
      },
      "execution_count": null,
      "outputs": [
        {
          "output_type": "stream",
          "name": "stdout",
          "text": [
            "enter a number21\n",
            "3\n"
          ]
        }
      ]
    },
    {
      "cell_type": "markdown",
      "source": [
        "#12)write a code to find a prime number in the list"
      ],
      "metadata": {
        "id": "oT05CxpZktvn"
      }
    },
    {
      "cell_type": "code",
      "source": [
        "def is_prime(n):\n",
        "  if n <= 1:\n",
        "    return False\n",
        "  # The loop to check for divisors should be here, outside the first if block\n",
        "  for i in range(2, int(n**0.5) + 1):\n",
        "    if n % i == 0:\n",
        "      return False\n",
        "  return True # If the loop completes without finding a divisor, the number is prime\n",
        "\n",
        "l=[5,8,10,12,4,3,7]\n",
        "count=0\n",
        "for i in l:\n",
        "  if is_prime(i):\n",
        "    count+=1\n",
        "print(count)"
      ],
      "metadata": {
        "colab": {
          "base_uri": "https://localhost:8080/"
        },
        "id": "FfSqH6F5mmci",
        "outputId": "a1a73e64-dc5b-4831-c8ec-c7de8bb0a5b0"
      },
      "execution_count": null,
      "outputs": [
        {
          "output_type": "stream",
          "name": "stdout",
          "text": [
            "3\n"
          ]
        }
      ]
    },
    {
      "cell_type": "markdown",
      "metadata": {
        "id": "15d02377"
      },
      "source": [
        "This code defines a function `is_prime` to check if a number is prime and then uses this function to count the prime numbers in a list.\n",
        "\n",
        "Here's how it works:\n",
        "\n",
        "1.  **`def is_prime(n):`**: Defines a function `is_prime` that takes an integer `n` as input.\n",
        "2.  **`if n <= 1:`**: Checks if the number is less than or equal to 1. Numbers less than or equal to 1 are not prime.\n",
        "3.  **`return False`**: If `n` is less than or equal to 1, the function returns `False`.\n",
        "4.  **`for i in range(2, int(n**0.5) + 1):`**: This loop checks for divisors of `n` starting from 2 up to the square root of `n`. We only need to check up to the square root for efficiency.\n",
        "5.  **`if n % i == 0:`**: Inside the loop, this checks if `n` is divisible by `i` without a remainder. If it is, `n` has a divisor other than 1 and itself, so it's not prime.\n",
        "6.  **`return False`**: If a divisor is found, the function immediately returns `False`.\n",
        "7.  **`return True`**: If the loop finishes without finding any divisors, it means `n` is prime, and the function returns `True`.\n",
        "8.  **`l=[5,8,10,12,4,3,7]`**: This is the list of numbers that will be checked for primality.\n",
        "9.  **`count=0`**: Initializes a counter to keep track of the prime numbers found.\n",
        "10. **`for i in l:`**: This loop iterates through each number in the list `l`.\n",
        "11. **`if is_prime(i):`**: Calls the `is_prime` function for each number in the list.\n",
        "12. **`count+=1`**: If the function returns `True` (meaning the number is prime), the counter is incremented.\n",
        "13. **`print(count)`**: Finally, prints the total count of prime numbers in the list."
      ]
    },
    {
      "cell_type": "code",
      "source": [
        "print(1)\n"
      ],
      "metadata": {
        "colab": {
          "base_uri": "https://localhost:8080/"
        },
        "id": "QyaSXnvvtEOb",
        "outputId": "f2796cb1-7e5d-4034-97d8-8cfffa0adcd7"
      },
      "execution_count": null,
      "outputs": [
        {
          "output_type": "stream",
          "name": "stdout",
          "text": [
            "1\n"
          ]
        }
      ]
    },
    {
      "cell_type": "code",
      "source": [
        "\n",
        "print(123)"
      ],
      "metadata": {
        "colab": {
          "base_uri": "https://localhost:8080/"
        },
        "id": "ALEKy06utLy9",
        "outputId": "9bae9f75-cf50-444d-b6e3-8bca52df529d"
      },
      "execution_count": null,
      "outputs": [
        {
          "output_type": "stream",
          "name": "stdout",
          "text": [
            "123\n"
          ]
        }
      ]
    },
    {
      "cell_type": "code",
      "source": [
        "a(123)"
      ],
      "metadata": {
        "colab": {
          "base_uri": "https://localhost:8080/",
          "height": 141
        },
        "id": "lSMnMvsttQg8",
        "outputId": "84790ba8-db71-4735-9980-877d8016d8fa"
      },
      "execution_count": null,
      "outputs": [
        {
          "output_type": "error",
          "ename": "NameError",
          "evalue": "name 'a' is not defined",
          "traceback": [
            "\u001b[0;31m---------------------------------------------------------------------------\u001b[0m",
            "\u001b[0;31mNameError\u001b[0m                                 Traceback (most recent call last)",
            "\u001b[0;32m/tmp/ipython-input-3910793667.py\u001b[0m in \u001b[0;36m<cell line: 0>\u001b[0;34m()\u001b[0m\n\u001b[0;32m----> 1\u001b[0;31m \u001b[0ma\u001b[0m\u001b[0;34m(\u001b[0m\u001b[0;36m123\u001b[0m\u001b[0;34m)\u001b[0m\u001b[0;34m\u001b[0m\u001b[0;34m\u001b[0m\u001b[0m\n\u001b[0m",
            "\u001b[0;31mNameError\u001b[0m: name 'a' is not defined"
          ]
        }
      ]
    },
    {
      "cell_type": "code",
      "source": [
        "a = print\n",
        "a(1)"
      ],
      "metadata": {
        "colab": {
          "base_uri": "https://localhost:8080/"
        },
        "id": "eX7tmpwvtaRb",
        "outputId": "58d6a18a-d43a-44bc-84be-8f84f74ba82c"
      },
      "execution_count": null,
      "outputs": [
        {
          "output_type": "stream",
          "name": "stdout",
          "text": [
            "1\n"
          ]
        }
      ]
    },
    {
      "cell_type": "code",
      "source": [
        "a"
      ],
      "metadata": {
        "colab": {
          "base_uri": "https://localhost:8080/"
        },
        "id": "4_6PFytnttFU",
        "outputId": "73d80c71-9877-47de-e501-a1c2862a867e"
      },
      "execution_count": null,
      "outputs": [
        {
          "output_type": "execute_result",
          "data": {
            "text/plain": [
              "<function print(*args, sep=' ', end='\\n', file=None, flush=False)>"
            ]
          },
          "metadata": {},
          "execution_count": 7
        }
      ]
    },
    {
      "cell_type": "code",
      "source": [
        "b=print\n",
        "b(123)"
      ],
      "metadata": {
        "colab": {
          "base_uri": "https://localhost:8080/"
        },
        "id": "YbEspT7rtyii",
        "outputId": "408617dc-bef1-4893-ff9f-c3fac3294551"
      },
      "execution_count": null,
      "outputs": [
        {
          "output_type": "stream",
          "name": "stdout",
          "text": [
            "123\n"
          ]
        }
      ]
    },
    {
      "cell_type": "markdown",
      "source": [
        "#13) A dislike of threes\n",
        "\n",
        "Polycarp doesn't like integers that are divisible by 3\n",
        " or end with the digit 3\n",
        " in their decimal representation. Integers that meet both conditions are disliked by Polycarp, too.\n",
        "\n",
        "Polycarp starts to write out the positive (greater than 0\n",
        ") integers which he likes: 1,2,4,5,7,8,10,11,14,16,…\n",
        ". Output the k\n",
        "-th element of this sequence (the elements are numbered from 1\n",
        ").\n",
        "\n",
        "Input\n",
        "\n",
        "The first line contains one integer t\n",
        " (1≤t≤100\n",
        ") — the number of test cases. Then t\n",
        " test cases follow.\n",
        "\n",
        "Each test case consists of one line containing one integer k\n",
        " (1≤k≤1000\n",
        ").\n",
        "\n",
        "Output\n",
        "\n",
        "For each test case, output in a separate line one integer x\n",
        " — the k\n",
        "-th element of the sequence that was written out by Polycarp.\n",
        "\n",
        "input:\n",
        "10\n",
        "\n",
        "1\n",
        "\n",
        "2\n",
        "\n",
        "3\n",
        "\n",
        "4\n",
        "\n",
        "5\n",
        "\n",
        "6\n",
        "\n",
        "7\n",
        "\n",
        "8\n",
        "\n",
        "9\n",
        "\n",
        "1000\n",
        "\n",
        "output:\n",
        "\n",
        "1\n",
        "\n",
        "2\n",
        "\n",
        "4\n",
        "\n",
        "5\n",
        "\n",
        "7\n",
        "\n",
        "8\n",
        "\n",
        "10\n",
        "\n",
        "11\n",
        "\n",
        "14\n",
        "\n",
        "1666"
      ],
      "metadata": {
        "id": "ue6egQIT0Evg"
      }
    },
    {
      "cell_type": "code",
      "source": [
        "a=int(input())\n",
        "for i in range(a):\n",
        "  a1=int(input())\n",
        "  i,count=1,0\n",
        "  while(1):\n",
        "    if i%10!=3 and i%3!=0:\n",
        "      count+=1\n",
        "      if count==a1:\n",
        "        print(i)\n",
        "        break\n",
        "    i+=1"
      ],
      "metadata": {
        "colab": {
          "base_uri": "https://localhost:8080/"
        },
        "id": "zp8cCa8z0EfA",
        "outputId": "65b023da-a282-41a4-bdb5-0020ac7c347f"
      },
      "execution_count": null,
      "outputs": [
        {
          "output_type": "stream",
          "name": "stdout",
          "text": [
            "10\n",
            "1\n",
            "1\n",
            "3\n",
            "4\n",
            "2\n",
            "2\n",
            "4\n",
            "5\n",
            "5\n",
            "7\n",
            "6\n",
            "8\n",
            "7\n",
            "10\n",
            "8\n",
            "11\n",
            "9\n",
            "14\n",
            "1000\n",
            "1666\n"
          ]
        }
      ]
    },
    {
      "cell_type": "markdown",
      "source": [
        "# **SET**\n",
        " a set is an unordered collection of data type that is iterable ,mutable and has no duplicate elements\n",
        "\n",
        " sets can be used to perform mathematical set operations like union,intersection,symmetric difference etc\n",
        "\n",
        "\n",
        "modifying is not allowed in set\n",
        "\n",
        "delete is possible\n",
        "\n",
        "set inside a set is not possible\n",
        "\n",
        "## set methods\n",
        "add(): adds an element to the set\n",
        "\n",
        "update(): updates the set with union of itself and others\n",
        "\n",
        "copy(): returns a copy of the set\n",
        "\n",
        "clear(): removes all the element fromm the set\n",
        "\n",
        "remove(): removes an element from the set if the member is not the member then raise the error\n",
        "\n",
        "pop(): removes and returns an arbitrary set element raise key error if the set is empty\n",
        "\n",
        "discard(): removes an element from the set if it is a member (do nothing if the element is not in set )\n",
        "\n",
        "union(): returns a union of set in a new set\n",
        "\n",
        "intersection(): returns the intersection of two sets as a new set\n",
        "\n",
        "intersection_update(): updates the set within the intersection of itself and another\n",
        "\n",
        "difference(): returns the difference of two or more sets as a new sets\n",
        "\n",
        "difference_update(): removes all element of anothe set from this set\n",
        "\n",
        "symmetric_difference(): returns the symmetric difference of two sets as a  new set\n",
        "\n",
        "symmetric_difference_update(): updates the symmetric difference of itself and another\n",
        "\n",
        "is_disjoint(): returns true if two sets have a null intersection\n",
        "\n",
        "is_subset(): returns true if another set contains this set\n",
        "\n",
        "is superset(): returns true if this set contains another set\n",
        "\n",
        "sum(): returns the sum of the set\n",
        "\n",
        "max(): returns the maximum element in the set\n",
        "\n",
        "min(): returns the minimum element in the group\n",
        "\n",
        "all(): returns true if all elements ofg the set are true\n",
        "\n",
        "any(): return true if any element of the set is true if the set is empty return false\n",
        "\n",
        "sorted():  return a new sorted list from elements in the set( does not sort the set itself)\n",
        "\n",
        "\n"
      ],
      "metadata": {
        "id": "vNjbOoLg-Z0f"
      }
    },
    {
      "cell_type": "markdown",
      "source": [
        "##creating a set\n"
      ],
      "metadata": {
        "id": "JS3Uo-Wk-_A-"
      }
    },
    {
      "cell_type": "code",
      "source": [
        "s=set()# empty set\n",
        "print(s)\n",
        "print(type(s))"
      ],
      "metadata": {
        "colab": {
          "base_uri": "https://localhost:8080/"
        },
        "id": "cSsHWyvC-YNu",
        "outputId": "e8258590-ef76-4a72-846c-8decaf5ac214"
      },
      "execution_count": null,
      "outputs": [
        {
          "output_type": "stream",
          "name": "stdout",
          "text": [
            "set()\n",
            "<class 'set'>\n"
          ]
        }
      ]
    },
    {
      "cell_type": "code",
      "source": [
        "s=set([1,2,'hi','bye'])       # create set with set[]\n",
        "print(s)\n"
      ],
      "metadata": {
        "colab": {
          "base_uri": "https://localhost:8080/"
        },
        "id": "pplZVjci4SlX",
        "outputId": "e875a83e-bb37-4f6e-ca46-fbfdb32f9cb2"
      },
      "execution_count": null,
      "outputs": [
        {
          "output_type": "stream",
          "name": "stdout",
          "text": [
            "{'bye', 1, 2, 'hi'}\n"
          ]
        }
      ]
    },
    {
      "cell_type": "code",
      "source": [
        "s={1,2,3,4,5,6}       # create set with {}\n",
        "print(s)"
      ],
      "metadata": {
        "colab": {
          "base_uri": "https://localhost:8080/"
        },
        "id": "T_UVEFZqEdg1",
        "outputId": "38eca59c-2baa-4356-d8b7-f7ba7f91c0aa"
      },
      "execution_count": null,
      "outputs": [
        {
          "output_type": "stream",
          "name": "stdout",
          "text": [
            "{1, 2, 3, 4, 5, 6}\n"
          ]
        }
      ]
    },
    {
      "cell_type": "code",
      "source": [
        "s=set([1,2,'hi',3,'bye'])\n",
        "print(s)\n",
        "\n"
      ],
      "metadata": {
        "colab": {
          "base_uri": "https://localhost:8080/"
        },
        "id": "df7yeHYOEnvV",
        "outputId": "f71e39fd-b9a7-49e1-f0c7-d41df80eb295"
      },
      "execution_count": null,
      "outputs": [
        {
          "output_type": "stream",
          "name": "stdout",
          "text": [
            "{1, 2, 3, 'bye', 'hi'}\n"
          ]
        }
      ]
    },
    {
      "cell_type": "code",
      "source": [
        "fruits = {'apple', 'banana'}\n",
        "fruits.add('orange')                                            # add()\n",
        "print(fruits)  # Output: {'apple', 'banana', 'orange'}"
      ],
      "metadata": {
        "colab": {
          "base_uri": "https://localhost:8080/"
        },
        "id": "9Cm7l5ZvFncF",
        "outputId": "3ee5134c-015d-4769-ff9f-a4b14b53b040"
      },
      "execution_count": null,
      "outputs": [
        {
          "output_type": "stream",
          "name": "stdout",
          "text": [
            "{'orange', 'apple', 'banana'}\n"
          ]
        }
      ]
    },
    {
      "cell_type": "code",
      "source": [
        "fruits = {'apple', 'banana'}\n",
        "fruits.update(['orange', 'mango'])                                #update\n",
        "print(fruits)  # Output: {'apple', 'banana', 'orange', 'mango'}"
      ],
      "metadata": {
        "colab": {
          "base_uri": "https://localhost:8080/"
        },
        "id": "bH-3XBDeO1PK",
        "outputId": "b725362f-959f-4045-ba6b-e5dd448027f5"
      },
      "execution_count": null,
      "outputs": [
        {
          "output_type": "stream",
          "name": "stdout",
          "text": [
            "{'orange', 'mango', 'apple', 'banana'}\n"
          ]
        }
      ]
    },
    {
      "cell_type": "code",
      "source": [
        "fruits = {'apple', 'banana'}\n",
        "fruits_copy = fruits.copy()                                       #copy\n",
        "print(fruits_copy)  # Output: {'apple', 'banana'}"
      ],
      "metadata": {
        "colab": {
          "base_uri": "https://localhost:8080/"
        },
        "id": "gtT5tAVFPQQ5",
        "outputId": "f3c5dc2e-8398-488e-efb9-a822be0d0ba2"
      },
      "execution_count": null,
      "outputs": [
        {
          "output_type": "stream",
          "name": "stdout",
          "text": [
            "{'apple', 'banana'}\n"
          ]
        }
      ]
    },
    {
      "cell_type": "code",
      "source": [
        "fruits = {'apple', 'banana'}\n",
        "fruits.clear()                                                   #clear\n",
        "print(fruits)  # Output: set()"
      ],
      "metadata": {
        "colab": {
          "base_uri": "https://localhost:8080/"
        },
        "id": "u-rgYSMwRrch",
        "outputId": "bbc914dc-98b9-49f4-e913-cea8381c30b6"
      },
      "execution_count": null,
      "outputs": [
        {
          "output_type": "stream",
          "name": "stdout",
          "text": [
            "set()\n"
          ]
        }
      ]
    },
    {
      "cell_type": "code",
      "source": [
        "fruits = {'apple', 'banana'}\n",
        "fruits.remove('apple')\n",
        "print(fruits)  # Output: {'banana'}                              #remove\n",
        "\n",
        "# fruits.remove('pear')  # This would raise KeyError"
      ],
      "metadata": {
        "colab": {
          "base_uri": "https://localhost:8080/"
        },
        "id": "rtQDrRXvRwaR",
        "outputId": "665ddd46-747a-4f75-8ea9-390fc8f5477d"
      },
      "execution_count": null,
      "outputs": [
        {
          "output_type": "stream",
          "name": "stdout",
          "text": [
            "{'banana'}\n"
          ]
        }
      ]
    },
    {
      "cell_type": "code",
      "source": [
        "fruits = {'apple', 'banana', 'orange'}\n",
        "item = fruits.pop()                                              #pop\n",
        "print(item)    # Output: random element (e.g., 'banana')\n",
        "print(fruits)  # Output: remaining elements (e.g., {'apple', 'orange'})"
      ],
      "metadata": {
        "colab": {
          "base_uri": "https://localhost:8080/"
        },
        "id": "X_EyCLOxSHZR",
        "outputId": "989bc183-e9fd-47ec-9ead-9aeb977013eb"
      },
      "execution_count": null,
      "outputs": [
        {
          "output_type": "stream",
          "name": "stdout",
          "text": [
            "orange\n",
            "{'apple', 'banana'}\n"
          ]
        }
      ]
    },
    {
      "cell_type": "code",
      "source": [
        "fruits = {'apple', 'banana'}\n",
        "fruits.discard('apple')\n",
        "print(fruits)  # Output: {'banana'}                              # discard\n",
        "\n",
        "fruits.discard('pear')  # No error raised\n",
        "print(fruits)  # Output: {'banana'}"
      ],
      "metadata": {
        "colab": {
          "base_uri": "https://localhost:8080/"
        },
        "id": "1C_cRTmjSZY5",
        "outputId": "2cb835e3-67b6-46c6-8389-68c5702ac25b"
      },
      "execution_count": null,
      "outputs": [
        {
          "output_type": "stream",
          "name": "stdout",
          "text": [
            "{'banana'}\n",
            "{'banana'}\n"
          ]
        }
      ]
    },
    {
      "cell_type": "code",
      "source": [
        "set1 = {1, 2, 3}\n",
        "set2 = {3, 4, 5}\n",
        "union_set = set1.union(set2)                                      #union\n",
        "print(union_set)  # Output: {1, 2, 3, 4, 5}"
      ],
      "metadata": {
        "colab": {
          "base_uri": "https://localhost:8080/"
        },
        "id": "mJLKb_OtSflJ",
        "outputId": "ce8d69fe-eb96-4c09-9210-ffdcd2d69881"
      },
      "execution_count": null,
      "outputs": [
        {
          "output_type": "stream",
          "name": "stdout",
          "text": [
            "{1, 2, 3, 4, 5}\n"
          ]
        }
      ]
    },
    {
      "cell_type": "code",
      "source": [
        "set1 = {1, 2, 3}\n",
        "set2 = {2, 3, 4}\n",
        "intersect_set = set1.intersection(set2)                           #intersection\n",
        "print(intersect_set)  # Output: {2, 3}"
      ],
      "metadata": {
        "colab": {
          "base_uri": "https://localhost:8080/"
        },
        "id": "7gwcZJpiSlqp",
        "outputId": "1eb89a32-091a-4ff4-c6e1-3804f223a020"
      },
      "execution_count": null,
      "outputs": [
        {
          "output_type": "stream",
          "name": "stdout",
          "text": [
            "{2, 3}\n"
          ]
        }
      ]
    },
    {
      "cell_type": "code",
      "source": [
        "set1 = {1, 2, 3}\n",
        "set2 = {2, 3, 4}\n",
        "set1.intersection_update(set2)                                    #intersection_update\n",
        "print(set1)  # Output: {2, 3}"
      ],
      "metadata": {
        "id": "jBUG76WHSp1x"
      },
      "execution_count": null,
      "outputs": []
    },
    {
      "cell_type": "code",
      "source": [
        "set1 = {1, 2, 3, 4}\n",
        "set2 = {3, 4, 5}\n",
        "diff = set1.difference(set2)                                      #difference\n",
        "print(diff)  # Output: {1, 2}"
      ],
      "metadata": {
        "colab": {
          "base_uri": "https://localhost:8080/"
        },
        "id": "1OkFjanDS-mg",
        "outputId": "b3fd39af-e8e8-469e-f6e2-e6b2cbb1b4bc"
      },
      "execution_count": null,
      "outputs": [
        {
          "output_type": "stream",
          "name": "stdout",
          "text": [
            "{1, 2}\n"
          ]
        }
      ]
    },
    {
      "cell_type": "code",
      "source": [
        "set1 = {1, 2, 3, 4}\n",
        "set2 = {3, 4, 5}\n",
        "set1.difference_update(set2)                                     #difference_update\n",
        "print(set1)  # Output: {1, 2}"
      ],
      "metadata": {
        "colab": {
          "base_uri": "https://localhost:8080/"
        },
        "id": "DCU5lB7BTDRw",
        "outputId": "a6915787-b9ac-4938-f495-02322ae424cb"
      },
      "execution_count": null,
      "outputs": [
        {
          "output_type": "stream",
          "name": "stdout",
          "text": [
            "{1, 2}\n"
          ]
        }
      ]
    },
    {
      "cell_type": "code",
      "source": [
        "set1 = {1, 2, 3}\n",
        "set2 = {3, 4, 5}\n",
        "sym_diff = set1.symmetric_difference(set2)                        #symmetric_difference\n",
        "print(sym_diff)  # Output: {1, 2, 4, 5}"
      ],
      "metadata": {
        "colab": {
          "base_uri": "https://localhost:8080/"
        },
        "id": "3Fmk5EpXTL2B",
        "outputId": "fa842880-101f-4bd4-9537-61b39f401fb6"
      },
      "execution_count": null,
      "outputs": [
        {
          "output_type": "stream",
          "name": "stdout",
          "text": [
            "{1, 2, 4, 5}\n"
          ]
        }
      ]
    },
    {
      "cell_type": "code",
      "source": [
        "set1 = {1, 2, 3}\n",
        "set2 = {3, 4, 5}\n",
        "set1.symmetric_difference_update(set2)                           #symmetric_difference_update\n",
        "print(set1)  # Output: {1, 2, 4, 5}"
      ],
      "metadata": {
        "colab": {
          "base_uri": "https://localhost:8080/"
        },
        "id": "3q-kKelVTXkp",
        "outputId": "acd6aa40-4cb6-481f-f1a5-ebd53d346b2e"
      },
      "execution_count": null,
      "outputs": [
        {
          "output_type": "stream",
          "name": "stdout",
          "text": [
            "{1, 2, 4, 5}\n"
          ]
        }
      ]
    },
    {
      "cell_type": "code",
      "source": [
        "set1 = {1, 2}\n",
        "set2 = {3, 4}\n",
        "print(set1.isdisjoint(set2))  # Output: True                       #isdisjoint\n",
        "\n",
        "set3 = {2, 3}\n",
        "print(set1.isdisjoint(set3))  # Output: False"
      ],
      "metadata": {
        "colab": {
          "base_uri": "https://localhost:8080/"
        },
        "id": "LC-EkW6-Tbk5",
        "outputId": "68696f6e-5abb-4884-d1c4-52ded9548328"
      },
      "execution_count": null,
      "outputs": [
        {
          "output_type": "stream",
          "name": "stdout",
          "text": [
            "True\n",
            "False\n"
          ]
        }
      ]
    },
    {
      "cell_type": "code",
      "source": [
        "set1 = {1, 2}\n",
        "set2 = {1, 2, 3}\n",
        "print(set1.issubset(set2))  # Output: True                         #issubset\n",
        "\n",
        "set3 = {1, 4}\n",
        "print(set1.issubset(set3))  # Output: False"
      ],
      "metadata": {
        "colab": {
          "base_uri": "https://localhost:8080/"
        },
        "id": "ynsZIhUeTmIZ",
        "outputId": "e568918a-f900-4268-c210-9a1c5d66c70f"
      },
      "execution_count": null,
      "outputs": [
        {
          "output_type": "stream",
          "name": "stdout",
          "text": [
            "True\n",
            "False\n"
          ]
        }
      ]
    },
    {
      "cell_type": "code",
      "source": [
        "set1 = {1, 2, 3}\n",
        "set2 = {1, 2}\n",
        "print(set1.issuperset(set2))  # Output: True                        # issuperset\n",
        "\n",
        "set3 = {1, 4}\n",
        "print(set1.issuperset(set3))  # Output: False"
      ],
      "metadata": {
        "colab": {
          "base_uri": "https://localhost:8080/"
        },
        "id": "apNsCFEXT1RB",
        "outputId": "fe760373-387d-478e-bf1a-ff8a9cd1947f"
      },
      "execution_count": null,
      "outputs": [
        {
          "output_type": "stream",
          "name": "stdout",
          "text": [
            "True\n",
            "False\n"
          ]
        }
      ]
    },
    {
      "cell_type": "code",
      "source": [
        "nums = {1, 2, 3, 4}\n",
        "print(sum(nums))  # Output: 10                                       #sum"
      ],
      "metadata": {
        "colab": {
          "base_uri": "https://localhost:8080/"
        },
        "id": "04QKA7xQT84g",
        "outputId": "cbead289-26bf-4226-a5c9-8573ac987a64"
      },
      "execution_count": null,
      "outputs": [
        {
          "output_type": "stream",
          "name": "stdout",
          "text": [
            "10\n"
          ]
        }
      ]
    },
    {
      "cell_type": "code",
      "source": [
        "nums = {5, 2, 8, 1}\n",
        "print(max(nums))  # Output: 8                                         #max"
      ],
      "metadata": {
        "colab": {
          "base_uri": "https://localhost:8080/"
        },
        "id": "vNJtlkOKUAph",
        "outputId": "e190efaf-3ed9-48f0-fb5c-46deb557bc2c"
      },
      "execution_count": null,
      "outputs": [
        {
          "output_type": "stream",
          "name": "stdout",
          "text": [
            "8\n"
          ]
        }
      ]
    },
    {
      "cell_type": "code",
      "source": [
        "nums = {5, 2, 8, 1}\n",
        "print(min(nums))  # Output: 1                                        #min"
      ],
      "metadata": {
        "colab": {
          "base_uri": "https://localhost:8080/"
        },
        "id": "GO0p2K_bUJrC",
        "outputId": "38d19d1c-0ae8-48ae-8f03-bb41a5036151"
      },
      "execution_count": null,
      "outputs": [
        {
          "output_type": "stream",
          "name": "stdout",
          "text": [
            "1\n"
          ]
        }
      ]
    },
    {
      "cell_type": "code",
      "source": [
        "set1 = {True, 1, 'non-empty'}\n",
        "print(all(set1))  # Output: True\n",
        "\n",
        "set2 = {True, 0, 'non-empty'}\n",
        "print(all(set2))  # Output: False                                  #all"
      ],
      "metadata": {
        "colab": {
          "base_uri": "https://localhost:8080/"
        },
        "id": "3VOljLGpUNDR",
        "outputId": "c0b620d1-221e-4583-f9d7-3f84de84e162"
      },
      "execution_count": null,
      "outputs": [
        {
          "output_type": "stream",
          "name": "stdout",
          "text": [
            "True\n",
            "False\n"
          ]
        }
      ]
    },
    {
      "cell_type": "code",
      "source": [
        "set1 = {False, 0, ''}\n",
        "print(any(set1))  # Output: False\n",
        "\n",
        "set2 = {False, 1, ''}\n",
        "print(any(set2))  # Output: True                                  #any"
      ],
      "metadata": {
        "colab": {
          "base_uri": "https://localhost:8080/"
        },
        "id": "lPhHjxfkUQ-o",
        "outputId": "4e1a0161-04ce-4000-f30c-1c6960cb8a62"
      },
      "execution_count": null,
      "outputs": [
        {
          "output_type": "stream",
          "name": "stdout",
          "text": [
            "False\n",
            "True\n"
          ]
        }
      ]
    },
    {
      "cell_type": "code",
      "source": [
        "nums = {5, 2, 8, 1}\n",
        "sorted_nums = sorted(nums)\n",
        "print(sorted_nums)  # Output: [1, 2, 5, 8]\n",
        "print(nums)         # Output: {1, 2, 5, 8} (original set unchanged)\n",
        "\n",
        "letters = {'c', 'a', 'b'}\n",
        "print(sorted(letters))  # Output: ['a', 'b', 'c']                       #sorted"
      ],
      "metadata": {
        "colab": {
          "base_uri": "https://localhost:8080/"
        },
        "id": "xC00ncCKUetZ",
        "outputId": "f2262910-7d61-4c2e-bf00-0fade0866cf1"
      },
      "execution_count": null,
      "outputs": [
        {
          "output_type": "stream",
          "name": "stdout",
          "text": [
            "[1, 2, 5, 8]\n",
            "{8, 1, 2, 5}\n",
            "['a', 'b', 'c']\n"
          ]
        }
      ]
    },
    {
      "cell_type": "markdown",
      "source": [
        "# DICTIONARY\n",
        "\n",
        "a dictionary is a collection which is unordered changable and indexed\n",
        "\n",
        "in python dictionaries are written with curly braces and they have keys and values\n",
        "\n",
        "ACESSING ELEMENT BY USING GET METHOD\n",
        "\n",
        "only values in dictionary can be changed but keys should be immutable\n",
        "\n",
        "##methods in dictionary\n",
        "\n",
        "get(): its a conventional method to acess a value for a key\n",
        "\n",
        "update(): adds dictionary dict2's key value pairs to dict\n",
        "\n",
        "copy(): the copy method returns a shallow copy of the dictionary\n",
        "\n",
        "pop(): removes and returns an element from the dictionary having the given key\n",
        "\n",
        "popitem(): removes the arbitrary key value pair from the dictionary and returns it as tuple\n",
        "\n",
        "clear(): the clear method removes all the items from the dictionary\n",
        "\n",
        "keys(): returns list of dictionary dict's keys\n",
        "\n",
        "values(): returns a list of alll the values available in a given dictionary\n",
        "\n",
        "items(): returns a list of dictionary (key,value) tuple pairs\n",
        "\n",
        "fromkeys(): create a new dictionary with keys from seq and values set to values\n",
        "\n",
        "setdefault(): set dict[key]=default if key is not already in dict\n",
        "\n"
      ],
      "metadata": {
        "id": "R9KoeWr2RxvC"
      }
    },
    {
      "cell_type": "code",
      "source": [
        "d={}\n",
        "n=int(input(\"enter the num of elements\"))\n",
        "for _ in range(n):\n",
        "  key=int(input(\"enter the key \"))\n",
        "  value=input(\"enter the value\")\n",
        "  d[key]=value\n",
        "print(d)"
      ],
      "metadata": {
        "colab": {
          "base_uri": "https://localhost:8080/"
        },
        "id": "ZC7uyiWcVHUA",
        "outputId": "4a08bf88-91c1-49a6-8b47-c21c34889d1f"
      },
      "execution_count": null,
      "outputs": [
        {
          "output_type": "stream",
          "name": "stdout",
          "text": [
            "enter the num of elements3\n",
            "enter the key 1\n",
            "enter the value2\n",
            "enter the key 3\n",
            "enter the value4\n",
            "enter the key 5\n",
            "enter the value6\n",
            "{1: '2', 3: '4', 5: '6'}\n"
          ]
        }
      ]
    },
    {
      "cell_type": "code",
      "source": [
        "## ACESSING ELEMENTS INSIDE DICTIONARY"
      ],
      "metadata": {
        "id": "QCxC7ne8X7-w"
      },
      "execution_count": null,
      "outputs": []
    },
    {
      "cell_type": "code",
      "source": [
        "\n",
        "company = {\n",
        "    'name': 'TechCorp',\n",
        "    'departments': {\n",
        "        'sales': 50,\n",
        "        'engineering': 120\n",
        "    }\n",
        "}\n",
        "\n",
        "# Safe access to nested dictionary\n",
        "print(company.get('departments', {}).get('engineering'))\n",
        "print(company.get('departments', {}).get('marketing'))"
      ],
      "metadata": {
        "colab": {
          "base_uri": "https://localhost:8080/"
        },
        "id": "0SziXWqlVr8n",
        "outputId": "05bd69e2-2861-4b24-e568-03255fae9c9c"
      },
      "execution_count": null,
      "outputs": [
        {
          "output_type": "stream",
          "name": "stdout",
          "text": [
            "120\n",
            "None\n"
          ]
        }
      ]
    },
    {
      "cell_type": "code",
      "source": [
        "student = {'name': 'John', 'age': 21, 'course': 'Computer Science'}\n",
        "\n",
        "print(student.get('name'))      # Output: 'John'                           #get\n",
        "print(student.get('grade'))     # Output: None\n",
        "print(student.get('grade', 'A'))  # Output: 'A' (default value)"
      ],
      "metadata": {
        "colab": {
          "base_uri": "https://localhost:8080/"
        },
        "id": "PdNSIA8cv5Lh",
        "outputId": "3d61909b-d114-4c4a-8a69-0afd8a9114c9"
      },
      "execution_count": null,
      "outputs": [
        {
          "output_type": "stream",
          "name": "stdout",
          "text": [
            "John\n",
            "None\n",
            "A\n"
          ]
        }
      ]
    },
    {
      "cell_type": "code",
      "source": [
        "dict1 = {'a': 1, 'b': 2}\n",
        "dict2 = {'b': 3, 'c': 4}                                                  #update\n",
        "\n",
        "dict1.update(dict2)\n",
        "print(dict1)  # Output: {'a': 1, 'b': 3, 'c': 4}"
      ],
      "metadata": {
        "colab": {
          "base_uri": "https://localhost:8080/"
        },
        "id": "WF21fP0VxC6x",
        "outputId": "8e451d43-2d23-4b5f-ccd4-614a76b571d4"
      },
      "execution_count": null,
      "outputs": [
        {
          "output_type": "stream",
          "name": "stdout",
          "text": [
            "{'a': 1, 'b': 3, 'c': 4}\n"
          ]
        }
      ]
    },
    {
      "cell_type": "code",
      "source": [
        "original = {'x': 1, 'y': 2}\n",
        "copied = original.copy()                                           # copy\n",
        "\n",
        "copied['x'] = 10\n",
        "print(original)  # Output: {'x': 1, 'y': 2}\n",
        "print(copied)    # Output: {'x': 10, 'y': 2}"
      ],
      "metadata": {
        "id": "I0NkrPfaxI-R"
      },
      "execution_count": null,
      "outputs": []
    },
    {
      "cell_type": "code",
      "source": [
        "inventory = {'apples': 10, 'bananas': 5, 'oranges': 8}\n",
        "\n",
        "removed = inventory.pop('bananas')                                #pop\n",
        "print(removed)     # Output: 5\n",
        "print(inventory)   # Output: {'apples': 10, 'oranges': 8}\n",
        "\n",
        "# inventory.pop('pears')  # Raises KeyError"
      ],
      "metadata": {
        "colab": {
          "base_uri": "https://localhost:8080/"
        },
        "id": "EfFmLCE1upyw",
        "outputId": "b4497350-b277-460d-aea2-271813ac3c18"
      },
      "execution_count": null,
      "outputs": [
        {
          "output_type": "stream",
          "name": "stdout",
          "text": [
            "5\n",
            "{'apples': 10, 'oranges': 8}\n"
          ]
        }
      ]
    },
    {
      "cell_type": "code",
      "source": [
        "colors = {'red': '#FF0000', 'green': '#00FF00', 'blue': '#0000FF'}\n",
        "\n",
        "item = colors.popitem()                                                     # popitem\n",
        "print(item)    # Output: ('blue', '#0000FF') (or another random item)\n",
        "print(colors)  # Output: remaining items"
      ],
      "metadata": {
        "id": "6s34pMb0vXmg"
      },
      "execution_count": null,
      "outputs": []
    },
    {
      "cell_type": "code",
      "source": [
        "temp = {'a': 1, 'b': 2}\n",
        "temp.clear()                                                               # clear\n",
        "print(temp)  # Output: {}"
      ],
      "metadata": {
        "id": "JsRmTzRnveS4"
      },
      "execution_count": null,
      "outputs": []
    },
    {
      "cell_type": "code",
      "source": [
        "car = {'brand': 'Toyota', 'model': 'Corolla', 'year': 2020}\n",
        "\n",
        "print(car.keys())  # Output: dict_keys(['brand', 'model', 'year'])          # keys\n",
        "print(list(car.keys()))  # Output: ['brand', 'model', 'year']"
      ],
      "metadata": {
        "id": "tm9ZSRyxvjVu"
      },
      "execution_count": null,
      "outputs": []
    },
    {
      "cell_type": "code",
      "source": [
        "car = {'brand': 'Toyota', 'model': 'Corolla', 'year': 2020}\n",
        "\n",
        "print(car.values())  # Output: dict_values(['Toyota', 'Corolla', 2020])     #values\n",
        "print(list(car.values()))  # Output: ['Toyota', 'Corolla', 2020]"
      ],
      "metadata": {
        "id": "LLwD9AAevoRn"
      },
      "execution_count": null,
      "outputs": []
    },
    {
      "cell_type": "code",
      "source": [
        "car = {'brand': 'Toyota', 'model': 'Corolla', 'year': 2020}\n",
        "\n",
        "print(car.items())                                                                    #items\n",
        "# Output: dict_items([('brand', 'Toyota'), ('model', 'Corolla'), ('year', 2020)])\n",
        "\n",
        "for key, value in car.items():\n",
        "    print(f\"{key}: {value}\")"
      ],
      "metadata": {
        "colab": {
          "base_uri": "https://localhost:8080/"
        },
        "id": "Z1gi-p8JvxVS",
        "outputId": "0d2c032c-9cb5-46b6-d814-39678c5d9811"
      },
      "execution_count": null,
      "outputs": [
        {
          "output_type": "stream",
          "name": "stdout",
          "text": [
            "dict_items([('brand', 'Toyota'), ('model', 'Corolla'), ('year', 2020)])\n",
            "brand: Toyota\n",
            "model: Corolla\n",
            "year: 2020\n"
          ]
        }
      ]
    },
    {
      "cell_type": "code",
      "source": [
        "keys = ['a', 'b', 'c']\n",
        "default_dict = dict.fromkeys(keys)                                                              #fromkeys\n",
        "print(default_dict)  # Output: {'a': None, 'b': None, 'c': None}\n",
        "\n",
        "value_dict = dict.fromkeys(keys, 0)\n",
        "print(value_dict)    # Output: {'a': 0, 'b': 0, 'c': 0}"
      ],
      "metadata": {
        "colab": {
          "base_uri": "https://localhost:8080/"
        },
        "id": "5V3dp9JSv0oP",
        "outputId": "e9538e4d-8dd8-463d-984b-468034dcf250"
      },
      "execution_count": null,
      "outputs": [
        {
          "output_type": "stream",
          "name": "stdout",
          "text": [
            "{'a': None, 'b': None, 'c': None}\n",
            "{'a': 0, 'b': 0, 'c': 0}\n"
          ]
        }
      ]
    },
    {
      "cell_type": "code",
      "source": [
        "employee = {'name': 'Alice', 'age': 28}\n",
        "\n",
        "# Key exists - returns current value\n",
        "print(employee.setdefault('name', 'Unknown'))  # Output: 'Alice'                                 #setdefault\n",
        "\n",
        "# Key doesn't exist - sets and returns default\n",
        "print(employee.setdefault('department', 'HR'))  # Output: 'HR'\n",
        "print(employee)  # Output: {'name': 'Alice', 'age': 28, 'department': 'HR'}"
      ],
      "metadata": {
        "colab": {
          "base_uri": "https://localhost:8080/"
        },
        "id": "Ye0gnVn3v7cN",
        "outputId": "f6db90ee-4f57-4f8e-c674-1de890683b49"
      },
      "execution_count": null,
      "outputs": [
        {
          "output_type": "stream",
          "name": "stdout",
          "text": [
            "Alice\n",
            "HR\n",
            "{'name': 'Alice', 'age': 28, 'department': 'HR'}\n"
          ]
        }
      ]
    },
    {
      "cell_type": "markdown",
      "source": [
        " # 14)write a program to check wether the given key already existsd in in a dictionary"
      ],
      "metadata": {
        "id": "wAkCzCnvs5YS"
      }
    },
    {
      "cell_type": "code",
      "source": [
        "d={}\n",
        "n=int(input(\"enter the num of elements\"))\n",
        "for _ in range(n):\n",
        "  key=int(input(\"enter the key \"))\n",
        "  value=input(\"enter the value\")\n",
        "  d[key]=value\n",
        "key=input()\n",
        "if key in d:\n",
        "  print(\"present\")\n",
        "else:\n",
        "  print(\"not present\")"
      ],
      "metadata": {
        "id": "RSI8igC2ssTJ"
      },
      "execution_count": null,
      "outputs": []
    },
    {
      "cell_type": "markdown",
      "source": [
        "#15) write a python program to generate and print a dictionary that contains a number"
      ],
      "metadata": {
        "id": "cBWRhTZruOo5"
      }
    },
    {
      "cell_type": "code",
      "source": [
        "d={}\n",
        "n=int(input(\"enter the num of elements\"))\n",
        "for _ in range(n):\n",
        "  key=int(input(\"enter the key \"))                    #or\n",
        "  value=key**2\n",
        "  d[key]=value\n",
        "\n",
        "print(d)"
      ],
      "metadata": {
        "colab": {
          "base_uri": "https://localhost:8080/"
        },
        "id": "SzInb0KdYOHX",
        "outputId": "dd92853c-f908-4f64-b6c8-38b61d70858d"
      },
      "execution_count": null,
      "outputs": [
        {
          "output_type": "stream",
          "name": "stdout",
          "text": [
            "enter the num of elements4\n",
            "enter the key 1\n",
            "enter the key 2\n",
            "enter the key 3\n",
            "enter the key 4\n",
            "{1: 1, 2: 4, 3: 9, 4: 16}\n"
          ]
        }
      ]
    },
    {
      "cell_type": "code",
      "source": [
        "d={}\n",
        "n=int(input(\"enter the range\"))\n",
        "for i in range(1,n+1):\n",
        "  d[i]=i*i\n",
        "print(d)"
      ],
      "metadata": {
        "colab": {
          "base_uri": "https://localhost:8080/"
        },
        "id": "7V43GJgAt46Z",
        "outputId": "ee866e7a-e0b4-4f87-accf-d5d79bfa9d0d"
      },
      "execution_count": null,
      "outputs": [
        {
          "output_type": "stream",
          "name": "stdout",
          "text": [
            "enter the range5\n",
            "{1: 1, 2: 4, 3: 9, 4: 16, 5: 25}\n"
          ]
        }
      ]
    },
    {
      "cell_type": "markdown",
      "source": [
        "leetcode 88  \n",
        "\n",
        "two pointer approach"
      ],
      "metadata": {
        "id": "TugQ9d0Nwm2p"
      }
    },
    {
      "cell_type": "code",
      "source": [
        "l=[1,6,9,5]\n",
        "for i in range(len(l)):\n",
        "  for j in range(i+1,len(l)):\n",
        "    print(l[i],l[j])\n",
        "\n"
      ],
      "metadata": {
        "colab": {
          "base_uri": "https://localhost:8080/"
        },
        "id": "mV7H14Y0vq_B",
        "outputId": "9c018a5f-6554-4387-f9a4-c6cb2ecf572e"
      },
      "execution_count": null,
      "outputs": [
        {
          "output_type": "stream",
          "name": "stdout",
          "text": [
            "1 6\n",
            "1 9\n",
            "1 5\n",
            "6 9\n",
            "6 5\n",
            "9 5\n"
          ]
        }
      ]
    },
    {
      "cell_type": "markdown",
      "source": [
        "maximim pair in the list"
      ],
      "metadata": {
        "id": "yiNj22hbSjcR"
      }
    },
    {
      "cell_type": "code",
      "source": [
        "l=[1,6,9,9,5,5]\n",
        "m1=m2=0,0\n",
        "for i in l:\n",
        "  if i>m1:\n",
        "    m2=m1\n",
        "    m1=i\n",
        "  elif i>m2:\n",
        "    m2=i\n",
        "print(m1+m2)"
      ],
      "metadata": {
        "colab": {
          "base_uri": "https://localhost:8080/",
          "height": 211
        },
        "id": "tAZIe-NaNj8r",
        "outputId": "872306c8-5943-44c0-94aa-f88b3cec81d5"
      },
      "execution_count": null,
      "outputs": [
        {
          "output_type": "error",
          "ename": "TypeError",
          "evalue": "'>' not supported between instances of 'int' and 'tuple'",
          "traceback": [
            "\u001b[0;31m---------------------------------------------------------------------------\u001b[0m",
            "\u001b[0;31mTypeError\u001b[0m                                 Traceback (most recent call last)",
            "\u001b[0;32m/tmp/ipython-input-2111135180.py\u001b[0m in \u001b[0;36m<cell line: 0>\u001b[0;34m()\u001b[0m\n\u001b[1;32m      2\u001b[0m \u001b[0mm1\u001b[0m\u001b[0;34m=\u001b[0m\u001b[0mm2\u001b[0m\u001b[0;34m=\u001b[0m\u001b[0;36m0\u001b[0m\u001b[0;34m,\u001b[0m\u001b[0;36m0\u001b[0m\u001b[0;34m\u001b[0m\u001b[0;34m\u001b[0m\u001b[0m\n\u001b[1;32m      3\u001b[0m \u001b[0;32mfor\u001b[0m \u001b[0mi\u001b[0m \u001b[0;32min\u001b[0m \u001b[0ml\u001b[0m\u001b[0;34m:\u001b[0m\u001b[0;34m\u001b[0m\u001b[0;34m\u001b[0m\u001b[0m\n\u001b[0;32m----> 4\u001b[0;31m   \u001b[0;32mif\u001b[0m \u001b[0mi\u001b[0m\u001b[0;34m>\u001b[0m\u001b[0mm1\u001b[0m\u001b[0;34m:\u001b[0m\u001b[0;34m\u001b[0m\u001b[0;34m\u001b[0m\u001b[0m\n\u001b[0m\u001b[1;32m      5\u001b[0m     \u001b[0mm2\u001b[0m\u001b[0;34m=\u001b[0m\u001b[0mm1\u001b[0m\u001b[0;34m\u001b[0m\u001b[0;34m\u001b[0m\u001b[0m\n\u001b[1;32m      6\u001b[0m     \u001b[0mm1\u001b[0m\u001b[0;34m=\u001b[0m\u001b[0mi\u001b[0m\u001b[0;34m\u001b[0m\u001b[0;34m\u001b[0m\u001b[0m\n",
            "\u001b[0;31mTypeError\u001b[0m: '>' not supported between instances of 'int' and 'tuple'"
          ]
        }
      ]
    },
    {
      "cell_type": "markdown",
      "source": [
        "16)electionns are conducted in a town that has population n .all the people  \n",
        "in the town cast vote to different candidates in the  town the people ofg the town later realized tht the votes of only the candidaates 18 or above years of age are considered find out the candidate who iis tht wilnner if only the votes of age group  18 and above are considered if the winner cannot be decided or if there is a tie print -1. you you are given an array vote which representative the candidate to whom the vote is given by the i th person and another array of age which represents the age of that particular voter\n"
      ],
      "metadata": {
        "id": "zD2EU663-_gD"
      }
    },
    {
      "cell_type": "code",
      "source": [
        "n= int(input())\n",
        "vote=list(map(int,input().split()))\n",
        "age=list(map(int,input().split()))\n",
        "c=[0]*max(vote)\n",
        "for i in range(n):\n",
        "  if age[i]>=18:\n",
        "    c[vote[i]-1]+=1\n",
        "temp=sorted(c,reverse=True)\n",
        "if temp[0]==temp[1]:\n",
        "  print(-1)\n",
        "else:\n",
        "  print(c.index(temp[0])+1)\n"
      ],
      "metadata": {
        "colab": {
          "base_uri": "https://localhost:8080/"
        },
        "id": "MROod0qD-_Ta",
        "outputId": "449438bd-b3b4-4840-bb3a-c82311a93337"
      },
      "execution_count": null,
      "outputs": [
        {
          "output_type": "stream",
          "name": "stdout",
          "text": [
            "5\n",
            "1 2 1 3 2 \n",
            "17 20 21 19 18\n",
            "2\n"
          ]
        }
      ]
    },
    {
      "cell_type": "markdown",
      "source": [
        "#17)check wether the list is sorted or not\n"
      ],
      "metadata": {
        "id": "HCghb8WaQUxC"
      }
    },
    {
      "cell_type": "code",
      "source": [
        "l=list(map(int,input().split()))\n",
        "for i in range(len(l)-1):\n",
        "  if l[i]>=l[i+1]:\n",
        "    print(\"not sorted\")\n",
        "    break\n",
        "else:\n",
        "  print(\"sorted\")"
      ],
      "metadata": {
        "colab": {
          "base_uri": "https://localhost:8080/"
        },
        "id": "zc0ojOhf-_PT",
        "outputId": "cedd36b9-9e69-4289-8754-8cca7ea03a57"
      },
      "execution_count": null,
      "outputs": [
        {
          "output_type": "stream",
          "name": "stdout",
          "text": [
            "1 2 3 4 5 \n",
            "sorted\n"
          ]
        }
      ]
    },
    {
      "cell_type": "markdown",
      "source": [
        "#**PATTERNS**\n",
        "\n",
        "##1)sliding window pattern\n"
      ],
      "metadata": {
        "id": "ULoCXck8YFMo"
      }
    },
    {
      "cell_type": "markdown",
      "source": [
        "#18)return the maximum sum of the group of 4 in the list                "
      ],
      "metadata": {
        "id": "QcznH0fiYPAP"
      }
    },
    {
      "cell_type": "code",
      "source": [
        "books=[2,3,4,1,2,6,7,3,5,1,6,3,2,4]\n",
        "k=4\n",
        "t=[]\n",
        "for i in range(len(books)):\n",
        " for j in range(i,i+k):\n",
        "  t.append(sum(books[i:j+1]))\n",
        "print(max(t))\n",
        "\n"
      ],
      "metadata": {
        "id": "EYsNTLSNS_kw",
        "colab": {
          "base_uri": "https://localhost:8080/"
        },
        "outputId": "594ed62a-553d-4275-debf-568f8db2bd8e"
      },
      "execution_count": null,
      "outputs": [
        {
          "output_type": "stream",
          "name": "stdout",
          "text": [
            "21\n"
          ]
        }
      ]
    },
    {
      "cell_type": "code",
      "source": [
        "books=[2,3,4,1,2,6,7,3,5,1,6,3,2,4]                #or\n",
        "k=4\n",
        "m=0\n",
        "for i in range(len(books)-k+1):\n",
        "  sum=0\n",
        "  for j in range(i,i+k):\n",
        "    sum+=books[j]\n",
        "    m=max(m,sum)\n",
        "print(m)\n"
      ],
      "metadata": {
        "colab": {
          "base_uri": "https://localhost:8080/"
        },
        "id": "RFZNV20mddER",
        "outputId": "57253906-cdbf-4965-803f-f81627cc0091"
      },
      "execution_count": null,
      "outputs": [
        {
          "output_type": "stream",
          "name": "stdout",
          "text": [
            "21\n"
          ]
        }
      ]
    },
    {
      "cell_type": "code",
      "source": [
        "# by using  fixed sliding window pattern                                 #or time complexity n*k\n",
        "#removing first book adding k+1 th book\n",
        "books=[2,3,4,1,2,6,7,3,5,1,6,3,2,4]\n",
        "k=4\n",
        "s=0\n",
        "for i in range (k):\n",
        "  s+=books[i]\n",
        "m=s\n",
        "for i in range(1,len(books)-k+1):\n",
        "  s=s-books[i-1]+books[i+k-1]\n",
        "  m=max(m,s)\n",
        "print(m)\n"
      ],
      "metadata": {
        "colab": {
          "base_uri": "https://localhost:8080/"
        },
        "id": "Xh9nqujPjSM4",
        "outputId": "82ddf280-acd9-4963-cd93-4bc54fc0a2ed"
      },
      "execution_count": null,
      "outputs": [
        {
          "output_type": "stream",
          "name": "stdout",
          "text": [
            "21\n"
          ]
        }
      ]
    },
    {
      "cell_type": "markdown",
      "metadata": {
        "id": "2cece168"
      },
      "source": [
        "This code calculates the maximum sum of a contiguous subarray of size `k` within the `books` list using the sliding window pattern.\n",
        "\n",
        "Here's a breakdown of the code:\n",
        "\n",
        "1. **`books=[2,3,4,1,2,6,7,3,5,1,6,3,2,4]`**: This is the input list of numbers.\n",
        "2. **`k=4`**: This is the size of the window (the number of consecutive elements) we want to consider.\n",
        "3. **`s=0`**: Initializes a variable `s` to store the sum of the current window.\n",
        "4. **`for i in range (k): s+=books[i]`**: This loop calculates the sum of the first window of size `k`.\n",
        "5. **`m=s`**: Initializes a variable `m` to store the maximum sum found so far, initially set to the sum of the first window.\n",
        "6. **`for i in range(1,len(books)-k):`**: This loop iterates through the rest of the list, effectively sliding the window. The loop starts from index 1 because the first window (from index 0 to k-1) has already been processed. The loop ends at `len(books)-k+1` because that's the last possible starting index for a window of size `k`.\n",
        "7. **`s=s-books[i-1]+books[i+k-1]`**: This is the core of the sliding window technique. In each iteration, we subtract the element that is leaving the window (`books[i-1]`) and add the new element that is entering the window (`books[i+k-1]`). This efficiently updates the sum of the current window without recalculating the entire sum each time.\n",
        "8. **`m=max(m,s)`**: This line compares the current window's sum (`s`) with the maximum sum found so far (`m`) and updates `m` if `s` is greater.\n",
        "9. **`print(m)`**: Finally, this line prints the overall maximum sum of any contiguous subarray of size `k`.\n",
        "\n",
        "**Sliding Window Pattern**\n",
        "\n",
        "The sliding window pattern is an algorithmic technique used to solve problems that involve a contiguous subarray or substring of a given size. It works by maintaining a \"window\" of a fixed or variable size that slides over the data. Instead of recalculating the result for each possible subarray, the sliding window technique efficiently updates the result as the window moves, typically by subtracting the element leaving the window and adding the element entering the window. This reduces the time complexity of the algorithm significantly.\n",
        "\n",
        "time complexity:O(k+n)"
      ]
    },
    {
      "cell_type": "markdown",
      "source": [
        "##19) find the max subarray whose sum is less than or equal to k\n",
        "we will be using dynamic sliding window pattern"
      ],
      "metadata": {
        "id": "Tqi9kEoF8BzI"
      }
    },
    {
      "cell_type": "code",
      "source": [
        "l=[2,3,4,5,2,1]\n",
        "for i in range(len(l)):       #   to find all the subarray\n",
        "  print(\" \")\n",
        "  for j in range(i,len(l)):\n",
        "    print(l[i:j+1],end=\"   \")"
      ],
      "metadata": {
        "colab": {
          "base_uri": "https://localhost:8080/"
        },
        "id": "0Iy1dMpqmlZI",
        "outputId": "1b2f6b1a-8e5c-4b3f-a59e-7f44e0d0cd53"
      },
      "execution_count": null,
      "outputs": [
        {
          "output_type": "stream",
          "name": "stdout",
          "text": [
            " \n",
            "[2]   [2, 3]   [2, 3, 4]   [2, 3, 4, 5]   [2, 3, 4, 5, 2]   [2, 3, 4, 5, 2, 1]    \n",
            "[3]   [3, 4]   [3, 4, 5]   [3, 4, 5, 2]   [3, 4, 5, 2, 1]    \n",
            "[4]   [4, 5]   [4, 5, 2]   [4, 5, 2, 1]    \n",
            "[5]   [5, 2]   [5, 2, 1]    \n",
            "[2]   [2, 1]    \n",
            "[1]   "
          ]
        }
      ]
    },
    {
      "cell_type": "code",
      "source": [
        "# code for question\n",
        "arr=[2,4,5,6,3,2,4,2,1,8,7,9]\n",
        "k=13\n",
        "l,r,sum,m=0,0,0,0\n",
        "while r<len(arr):\n",
        "  sum+=arr[r]\n",
        "  while sum>k:\n",
        "    sum=sum-arr[l]\n",
        "    l=l+1\n",
        "  m=max(m,sum)\n",
        "  r+=1\n",
        "print(m)\n"
      ],
      "metadata": {
        "colab": {
          "base_uri": "https://localhost:8080/"
        },
        "id": "Zg2WXwep-9zA",
        "outputId": "b843fd78-d272-4e42-bd33-bcc1aea7b1ed"
      },
      "execution_count": null,
      "outputs": [
        {
          "output_type": "stream",
          "name": "stdout",
          "text": [
            "12\n"
          ]
        }
      ]
    },
    {
      "cell_type": "markdown",
      "source": [
        "#20)most frequent element by using hashing method"
      ],
      "metadata": {
        "id": "MZC_tTHxL79v"
      }
    },
    {
      "cell_type": "code",
      "source": [
        "l=list(map(int,input().split()))\n",
        "m=0\n",
        "d={}\n",
        "ele=0\n",
        "for i in l:\n",
        "  if i not in d:\n",
        "    d[i]=1\n",
        "  else:\n",
        "    d[i]+=1\n",
        "for k in d:\n",
        "  if d[k]>m:\n",
        "    m=d[k]\n",
        "    ele=k\n",
        "print(ele)\n"
      ],
      "metadata": {
        "id": "A1mQLHfWFNVn",
        "colab": {
          "base_uri": "https://localhost:8080/"
        },
        "outputId": "f0abdd24-969c-41c7-ae08-438c7f8c0d7c"
      },
      "execution_count": null,
      "outputs": [
        {
          "output_type": "stream",
          "name": "stdout",
          "text": [
            "1 3 2 2 5 2 3 7 \n",
            "2\n"
          ]
        }
      ]
    },
    {
      "cell_type": "markdown",
      "source": [
        "#21)2nd most frequent element by using hash method"
      ],
      "metadata": {
        "id": "eLoQ22PXMCXs"
      }
    },
    {
      "cell_type": "code",
      "source": [
        "m,m1=0,0\n",
        "ele,ele1=0,0\n",
        "d={}\n",
        "l=list(map(int,input().split()))\n",
        "for i in l:\n",
        "  if i not in d:\n",
        "    d[i]=1\n",
        "  else:\n",
        "    d[i]+=1\n",
        "for k in d:\n",
        "   if d[k]>m:\n",
        "       m1=m\n",
        "       ele2=ele\n",
        "       m=d[k]\n",
        "       ele=k\n",
        "print(ele2)\n",
        "\n",
        "\n",
        "\n",
        "\n",
        "\n"
      ],
      "metadata": {
        "colab": {
          "base_uri": "https://localhost:8080/"
        },
        "id": "mKZsSw1QJpCk",
        "outputId": "4acd0cac-7166-45e5-c818-d74a11f6a346"
      },
      "execution_count": null,
      "outputs": [
        {
          "output_type": "stream",
          "name": "stdout",
          "text": [
            "1 3 2 2 5 2 3 7\n",
            "3\n"
          ]
        }
      ]
    },
    {
      "cell_type": "markdown",
      "source": [
        "#22)find an element k in the list"
      ],
      "metadata": {
        "id": "eyjIex8RhBwn"
      }
    },
    {
      "cell_type": "code",
      "source": [
        "l=[3,2,1,4,5,7,8,9]\n",
        "k=7\n",
        "for i in range(len(l)):\n",
        "  if l[i]==k:\n",
        "    print(i)\n",
        "    break\n",
        "else:\n",
        "  print(\"ele nnot found\")"
      ],
      "metadata": {
        "colab": {
          "base_uri": "https://localhost:8080/"
        },
        "id": "Dw2MVUwrMvk1",
        "outputId": "a2dea91b-e882-405e-9424-0ca5a871f1ee"
      },
      "execution_count": null,
      "outputs": [
        {
          "output_type": "stream",
          "name": "stdout",
          "text": [
            "5\n"
          ]
        }
      ]
    },
    {
      "cell_type": "markdown",
      "source": [
        "#23) Find an element in matrix"
      ],
      "metadata": {
        "id": "P_Pz_FMriv__"
      }
    },
    {
      "cell_type": "code",
      "source": [
        "l=[1,2,3],[4,5,6],[7,8,9]             #  input given for mmatrix\n",
        "k=9\n",
        "for i in range(len(l)):              # no of rows\n",
        "  for j in range(len(l[0])):         # len[0] no of columns\n",
        "    if l[i][j]==k:\n",
        "      flag=1\n",
        "      print(True,i,j)\n",
        "      break\n",
        "if flag==0:\n",
        "  print(False)\n",
        "\n"
      ],
      "metadata": {
        "colab": {
          "base_uri": "https://localhost:8080/"
        },
        "id": "-tFU3kdehnsn",
        "outputId": "1414256b-a46a-4089-bd9f-54e573e9eebd"
      },
      "execution_count": null,
      "outputs": [
        {
          "output_type": "stream",
          "name": "stdout",
          "text": [
            "True 2 2\n"
          ]
        }
      ]
    },
    {
      "cell_type": "markdown",
      "source": [
        "##BINARY SEARCH (DIVIDE AND CONQUER)\n",
        "\n",
        "Imagine you have a super-duper long list of numbers, all lined up from smallest to biggest, like building blocks! Binary search is like a game to find a special building block (a number) in that list really, really fast.\n",
        "\n",
        "Here's how you play:\n",
        "\n",
        "Start in the Middle: You don't start at the beginning. You jump right to the building block exactly in the middle of the list.\n",
        "\n",
        "Is it Your Block? Look at that middle block. Is it the special number you're looking for?\n",
        "\n",
        "\n",
        "Yes! Hooray! You found it! Game over, you win!\n",
        "\n",
        "No, it's too small: If the middle block is smaller than your special number, you know your special number must be in the right half of the list (because the list is sorted!). You can forget about all the blocks in the left half.\n",
        "No, it's too big: If the middle block is bigger than your special number, you know your special number must be in the left half of the list. You can forget about all the blocks in the right half.\n",
        "\n",
        "\n",
        "Repeat the Game: Now you have a smaller list of blocks to look through. Go back to step 1 and find the middle block of this new, smaller list. Keep doing this again and again!\n",
        "\n",
        "Every time you check the middle block, you get rid of half of the remaining blocks! That's why it's so fast. You don't have to look at every single block.\n",
        "\n",
        "It's like finding a page in a book. You don't start at page 1 and flip one by one. You open somewhere in the middle. If you're past the page you want, you go back to the middle of the first half. If you're before the page you want, you go to the middle of the second half. You keep cutting the book in half until you find your page!\n",
        "\n"
      ],
      "metadata": {
        "id": "0-_ni__SntlP"
      }
    },
    {
      "cell_type": "code",
      "source": [
        "l=[1,3,4,5,7,8,9,11,15]\n",
        "k=11\n",
        "s,e=0,len(l)-1\n",
        "while s<=e:\n",
        "  m=(s+e)//2\n",
        "  if l[m]==k:\n",
        "    print(\"found the element\")\n",
        "    break\n",
        "  elif l[m]<k:\n",
        "    s=m+1\n",
        "  else:\n",
        "    e=m-1\n",
        "else:\n",
        "  print(\"false\")"
      ],
      "metadata": {
        "colab": {
          "base_uri": "https://localhost:8080/"
        },
        "id": "JCessMtvjVqg",
        "outputId": "50a24a2a-9777-4201-b1c3-4463f2b3cfab"
      },
      "execution_count": null,
      "outputs": [
        {
          "output_type": "stream",
          "name": "stdout",
          "text": [
            "found the element\n"
          ]
        }
      ]
    },
    {
      "cell_type": "markdown",
      "source": [
        "We have our sorted list of building blocks l = [1, 3, 4, 5, 7, 8, 9, 11, 15] and the special treasure block we're looking for is k = 11.\n",
        "\n",
        "s, e = 0, len(l)-1: We start with two markers, one at the very beginning of the line of blocks (s is at index 0, the first block) and one at the very end (e is at the last block).\n",
        "\n",
        "while s < e:: We keep looking as long as our start marker is before our end marker. If they cross or meet, it means we've looked everywhere!\n",
        "\n",
        "m = (s + e) // 2: We find the block exactly in the middle of where our markers are. This is like finding the middle of our current search area.\n",
        "\n",
        "if l[m] == k:: We check if the block in the middle l[m] is our special treasure block k.\n",
        "\n",
        "If it is, we shout \"found the element!\" and stop the game (break).\n",
        "\n",
        "elif l[m] < k:: If the middle block is smaller than our treasure, we know our treasure must be in the blocks to the right of the middle block (because they are bigger). So, we move our start marker s to the block after the middle one (m + 1).\n",
        "\n",
        "else:: If the middle block is bigger than our treasure, we know our treasure must be in the blocks to the left of the middle block (because they are smaller). So, we move our end marker e to the block before the middle one (m - 1).\n",
        "\n",
        "else: print(\"false\"): If the loop finishes and we haven't found the treasure block (because our start and end markers have met or crossed), it means the treasure wasn't in the list, and we say \"false\".\n",
        "\n",
        "\n",
        "So, the code is just doing that middle-checking trick over and over on smaller and smaller parts of the list until it finds the treasure or runs out of places to look!"
      ],
      "metadata": {
        "id": "yc_3kc2vqOql"
      }
    },
    {
      "cell_type": "code",
      "source": [],
      "metadata": {
        "id": "1s-gito6phCm"
      },
      "execution_count": null,
      "outputs": []
    },
    {
      "cell_type": "markdown",
      "metadata": {
        "id": "7eaf3f3b"
      },
      "source": [
        "### The `math.ceil()` function in Python\n",
        "\n",
        "The `math.ceil(x)` function in Python returns the smallest integer greater than or equal to `x`. In simpler terms, it rounds a number *up* to the nearest whole number.\n",
        "\n",
        "Here are some key points about `math.ceil()`:\n",
        "\n",
        "*   It's part of the `math` module, so you need to import it first (`import math`).\n",
        "*   It takes one argument, `x`, which can be a number (integer or float).\n",
        "*   It always returns an integer.\n",
        "*   For positive numbers, `math.ceil()` rounds up to the next whole number if there's a decimal part. If it's a whole number, it returns the number itself.\n",
        "*   For negative numbers, `math.ceil()` rounds up towards zero. For example, `math.ceil(-3.7)` is -3, not -4.\n",
        "\n",
        "Let's see some examples."
      ]
    },
    {
      "cell_type": "code",
      "metadata": {
        "colab": {
          "base_uri": "https://localhost:8080/"
        },
        "id": "208477f8",
        "outputId": "5312abbd-cba0-4b83-a02b-7f84b86f7798"
      },
      "source": [
        "import math\n",
        "\n",
        "# Positive numbers\n",
        "print(f\"math.ceil(4.2): {math.ceil(4.2)}\")\n",
        "print(f\"math.ceil(5): {math.ceil(5)}\")\n",
        "print(f\"math.ceil(0.1): {math.ceil(0.1)}\")\n",
        "\n",
        "# Negative numbers\n",
        "print(f\"math.ceil(-2.8): {math.ceil(-2.8)}\")\n",
        "print(f\"math.ceil(-3): {math.ceil(-3)}\")\n",
        "print(f\"math.ceil(-0.9): {math.ceil(-0.9)}\")\n",
        "\n",
        "# Zero\n",
        "print(f\"math.ceil(0): {math.ceil(0)}\")"
      ],
      "execution_count": null,
      "outputs": [
        {
          "output_type": "stream",
          "name": "stdout",
          "text": [
            "math.ceil(4.2): 5\n",
            "math.ceil(5): 5\n",
            "math.ceil(0.1): 1\n",
            "math.ceil(-2.8): -2\n",
            "math.ceil(-3): -3\n",
            "math.ceil(-0.9): 0\n",
            "math.ceil(0): 0\n"
          ]
        }
      ]
    },
    {
      "cell_type": "markdown",
      "source": [
        "#STACK\n",
        "stack follows lifo\n",
        "\n",
        ".append to insert\n",
        "\n",
        ".pop to remove top element\n",
        "\n"
      ],
      "metadata": {
        "id": "MHb22y9nX9t5"
      }
    },
    {
      "cell_type": "markdown",
      "source": [
        "#QUEUE\n",
        "\n",
        "queue follows fifo\n",
        "\n",
        "pop(0) removes first element in queue\n",
        "\n"
      ],
      "metadata": {
        "id": "cTnUqH9CYrfw"
      }
    },
    {
      "cell_type": "code",
      "source": [
        "\n"
      ],
      "metadata": {
        "id": "5hJugFbzSGN1"
      },
      "execution_count": null,
      "outputs": []
    },
    {
      "cell_type": "code",
      "source": [
        "s=str(input())\n",
        "l=[]\n",
        "for i in s:\n",
        "  if i not in l:\n",
        "    l.append(i)\n"
      ],
      "metadata": {
        "id": "EV442EB9dOow"
      },
      "execution_count": null,
      "outputs": []
    },
    {
      "cell_type": "markdown",
      "source": [
        "#24)how to print numbers in below mentioned pattern pattern\n",
        ":"
      ],
      "metadata": {
        "id": "5n6ZGyv-J7zC"
      }
    },
    {
      "cell_type": "code",
      "source": [
        "l=[3,2,4,2]\n",
        "n=len(l)\n",
        "x=3\n",
        "arr=[]\n",
        "for i in range(n):\n",
        "  arr.extend([i+1]*l[i])\n",
        "print(arr)\n",
        "l,r=0,0\n",
        "for i in range(len(arr)):\n",
        "  if arr[i]==x:\n",
        "    l=i\n",
        "    break\n",
        "for i in range(len(arr)-1,-1,-1):\n",
        "  if arr[i]==x:\n",
        "    r=i\n",
        "    break\n",
        "print(l,r)"
      ],
      "metadata": {
        "colab": {
          "base_uri": "https://localhost:8080/"
        },
        "id": "JrvvVfp-JiJS",
        "outputId": "0c3be1f9-0644-4e22-a932-a8d7dd3e784d"
      },
      "execution_count": null,
      "outputs": [
        {
          "output_type": "stream",
          "name": "stdout",
          "text": [
            "[1, 1, 1, 2, 2, 3, 3, 3, 3, 4, 4]\n",
            "5 8\n"
          ]
        }
      ]
    },
    {
      "cell_type": "markdown",
      "source": [
        "###25)input : abbba\n",
        "\n",
        "###output:aba\n",
        "\n",
        "###consicutive same element must be removed"
      ],
      "metadata": {
        "id": "OF4He7zkMnBA"
      }
    },
    {
      "cell_type": "code",
      "source": [
        "arr=str(input(\"enter the array \"))\n",
        "stack=[]\n",
        "for i in arr:\n",
        "  if stack and stack[-1]==i:\n",
        "    stack.pop()\n",
        "  else:\n",
        "    stack.append(i)\n",
        "print(\"\".join(stack))"
      ],
      "metadata": {
        "colab": {
          "base_uri": "https://localhost:8080/"
        },
        "id": "arjRP-HHJ6aC",
        "outputId": "98540ec3-cba2-40b4-b5d4-5ba9512eee48"
      },
      "execution_count": null,
      "outputs": [
        {
          "output_type": "stream",
          "name": "stdout",
          "text": [
            "enter the array abbba\n",
            "aba\n"
          ]
        }
      ]
    },
    {
      "cell_type": "code",
      "source": [
        "arr=str(input())\n",
        "stack=[]\n",
        "for i in arr:\n",
        "  if  i=='*':\n",
        "    stack.pop()\n",
        "  else:\n",
        "    stack.append(i)\n",
        "print(\"\".join(stack))"
      ],
      "metadata": {
        "colab": {
          "base_uri": "https://localhost:8080/"
        },
        "id": "qpjpfjqROeDf",
        "outputId": "4cbd2d2e-eddf-4f6c-c1fd-59661837619e"
      },
      "execution_count": null,
      "outputs": [
        {
          "output_type": "stream",
          "name": "stdout",
          "text": [
            "abcd**cde\n",
            "abcde\n"
          ]
        }
      ]
    },
    {
      "cell_type": "markdown",
      "source": [
        "##26)finding prime numbers by using sevievs erathostheneses algo"
      ],
      "metadata": {
        "id": "9gjlSNXuxhOk"
      }
    },
    {
      "cell_type": "code",
      "source": [
        "n=int(input(\"Enter the number:\"))\n",
        "prime=[True]*(n+1)\n",
        "prime[0]=False\n",
        "prime[1]=False\n",
        "p=2\n",
        "while p*p<=n:\n",
        "  if prime[p]:\n",
        "    for i in range(p*p,n+1,p):\n",
        "      prime[i]=False\n",
        "  p+=1\n",
        "for i in range(n+1):\n",
        "  if prime[i]:\n",
        "    print(i,end=' ')"
      ],
      "metadata": {
        "id": "M5wtk5anP391",
        "colab": {
          "base_uri": "https://localhost:8080/"
        },
        "outputId": "aa4d595f-605f-4ebd-88e8-a086637e103a"
      },
      "execution_count": null,
      "outputs": [
        {
          "output_type": "stream",
          "name": "stdout",
          "text": [
            "Enter the number:10\n",
            "2 3 5 7 "
          ]
        }
      ]
    },
    {
      "cell_type": "markdown",
      "source": [
        "#RECCURSION\n",
        "\n",
        "callling a function inside the same  function is called recsursion\n"
      ],
      "metadata": {
        "id": "NSqfulaNVTXn"
      }
    },
    {
      "cell_type": "markdown",
      "metadata": {
        "id": "24a3b1b4"
      },
      "source": [
        "### **Recursion Explained Simply**\n",
        "\n",
        "Imagine you have a task, and you can break that task down into smaller, similar versions of the same task. Recursion is like saying, \"To solve the big task, I'll solve the smaller tasks first.\"\n",
        "\n",
        "Think of it like a set of Russian nesting dolls. To open the biggest doll, you have to open the next biggest doll inside. To open that one, you open the next biggest one, and so on, until you get to the smallest doll. Once you open the smallest doll, you can close it up and put it back in the next biggest one, and keep doing that until you've put all the dolls back inside the biggest one.\n",
        "\n",
        "In programming, a recursive function is a function that calls itself. It keeps calling itself with a smaller version of the problem until it reaches a \"base case\" – like the smallest nesting doll – where it knows the answer directly without calling itself again. Then, it uses the answers from the smaller problems to solve the bigger ones, all the way back up to the original problem.\n",
        "\n",
        "**Key Ideas:**\n",
        "\n",
        "*   **Self-calling:** A function calls itself.\n",
        "*   **Base Case:** A condition where the function stops calling itself. This is essential to prevent infinite loops.\n",
        "*   **Smaller Problem:** Each recursive call solves a smaller version of the original problem.\n",
        "\n",
        "It might sound a bit confusing at first, but it's a powerful way to solve certain problems elegantly!"
      ]
    },
    {
      "cell_type": "markdown",
      "source": [
        "##27) print the reverse number from the limit mentioned"
      ],
      "metadata": {
        "id": "ZQwJHwvGXrxF"
      }
    },
    {
      "cell_type": "code",
      "source": [
        "  def fun(n):\n",
        "    if n==0:             #tail reccursion\n",
        "      return 0\n",
        "    print(n)\n",
        "    fun(n-1)\n",
        "i=int(input(\"enter a number\"))\n",
        "fun(i)"
      ],
      "metadata": {
        "id": "yjMR-KbJy_uN",
        "colab": {
          "base_uri": "https://localhost:8080/"
        },
        "outputId": "794c6058-a825-4fce-e57e-d0427bab29aa"
      },
      "execution_count": null,
      "outputs": [
        {
          "output_type": "stream",
          "name": "stdout",
          "text": [
            "enter a number5\n",
            "5\n",
            "4\n",
            "3\n",
            "2\n",
            "1\n"
          ]
        }
      ]
    },
    {
      "cell_type": "markdown",
      "source": [
        "##28)print the element till the limit by using reccursion"
      ],
      "metadata": {
        "id": "eYH3A7NnbqKz"
      }
    },
    {
      "cell_type": "code",
      "source": [
        "  def fun(n):\n",
        "    if n==0:         # head reccursion\n",
        "      return 0\n",
        "    fun(n-1)\n",
        "    print(n)\n",
        "\n",
        "i=int(input(\"enter a number\"))\n",
        "fun(i)\n"
      ],
      "metadata": {
        "colab": {
          "base_uri": "https://localhost:8080/"
        },
        "id": "9HsqpiH5XL3G",
        "outputId": "42aea0e6-7261-4ad2-a3eb-5599ce618719"
      },
      "execution_count": null,
      "outputs": [
        {
          "output_type": "stream",
          "name": "stdout",
          "text": [
            "enter a number10\n",
            "1\n",
            "2\n",
            "3\n",
            "4\n",
            "5\n",
            "6\n",
            "7\n",
            "8\n",
            "9\n",
            "10\n"
          ]
        }
      ]
    },
    {
      "cell_type": "markdown",
      "source": [
        "##29)print the return statement 200"
      ],
      "metadata": {
        "id": "Fw-3eumvh384"
      }
    },
    {
      "cell_type": "code",
      "source": [
        "def fun(n):\n",
        "  if n==0:\n",
        "    return 200\n",
        "  e=fun(n-1)\n",
        "  print(n)\n",
        "  return e\n",
        "\n",
        "\n",
        "i=int(input(\"enter a number\"))\n",
        "print(fun(i),end=' ')"
      ],
      "metadata": {
        "colab": {
          "base_uri": "https://localhost:8080/"
        },
        "id": "gnSrmKHgacY-",
        "outputId": "8c64c1c8-345f-4f18-d149-1aec4ea8a901"
      },
      "execution_count": null,
      "outputs": [
        {
          "output_type": "stream",
          "name": "stdout",
          "text": [
            "enter a number5\n",
            "1\n",
            "2\n",
            "3\n",
            "4\n",
            "5\n",
            "200 "
          ]
        }
      ]
    },
    {
      "cell_type": "code",
      "source": [
        "def fun(n):\n",
        "  if n==0:\n",
        "    return\n",
        "  if n%2!=0:\n",
        "    print(n,end=\" \")\n",
        "  fun(n-1)\n",
        "  if n%2!=0 and n>1:\n",
        "    print(n,end=\" \")\n",
        "a=int(input())\n",
        "fun(a)"
      ],
      "metadata": {
        "colab": {
          "base_uri": "https://localhost:8080/"
        },
        "id": "d7Lskmu7doIb",
        "outputId": "d45e3cbc-b56b-4c1b-aa1e-a2ed044b6bc5"
      },
      "execution_count": null,
      "outputs": [
        {
          "output_type": "stream",
          "name": "stdout",
          "text": [
            "10\n",
            "9 7 5 3 1 3 5 7 9 "
          ]
        }
      ]
    },
    {
      "cell_type": "code",
      "source": [
        "def fun(n):\n",
        "  if n==0:\n",
        "    return\n",
        "  fun(n-1)\n",
        "  if n%2!=0:\n",
        "    print(n,end=\" \")\n",
        "\n",
        "a=int(input())\n",
        "fun(a)"
      ],
      "metadata": {
        "colab": {
          "base_uri": "https://localhost:8080/"
        },
        "id": "4c2MvwCfiHEf",
        "outputId": "8805b30b-f295-4490-ebb0-34093bd4fd5f"
      },
      "execution_count": null,
      "outputs": [
        {
          "output_type": "stream",
          "name": "stdout",
          "text": [
            "10\n",
            "1 3 5 7 9 "
          ]
        }
      ]
    },
    {
      "cell_type": "code",
      "source": [
        "def fun(n,m=0):\n",
        "  if n==m:\n",
        "    return\n",
        "  print(m+1,end=\" \")\n",
        "  fun(n,m+1)\n",
        "  print(m+1,end= \" \")\n",
        "a= int(input(\"enter a num: \"))\n",
        "fun(a)"
      ],
      "metadata": {
        "colab": {
          "base_uri": "https://localhost:8080/"
        },
        "id": "NVwEewslsI1K",
        "outputId": "82a4f05e-8d90-404d-f787-2b139a290f12"
      },
      "execution_count": null,
      "outputs": [
        {
          "output_type": "stream",
          "name": "stdout",
          "text": [
            "enter a num: 10\n",
            "1 2 3 4 5 6 7 8 9 10 10 9 8 7 6 5 4 3 2 1 "
          ]
        }
      ]
    },
    {
      "cell_type": "markdown",
      "source": [
        "##30)Reduce a number to 1 by performing given operations\n",
        "\n",
        "\n",
        "\n",
        "Given a number N. The task is to reduce the given number N to 1 in the minimum number of steps.\n",
        "\n",
        "You can perform any one of the below operations in each step.\n",
        "\n",
        "Operation 1: If the number is even then you can divide the number by 2.\n",
        "\n",
        "\n",
        "Operation 2: If the number is odd then you are allowed to perform either (n+1) or (n-1).\n",
        "\n",
        "\n",
        "You need to print the minimum number of steps required to reduce the number N to 1 by performing the above operations.\n",
        "\n",
        "Examples:  \n",
        "\n",
        "Input : n = 15\n",
        "\n",
        "Output : 5\n",
        "\n",
        " 15 is odd 15+1=16\n",
        "\n",
        " 16 is even 16/2=8\n",
        "\n",
        " 8  is even 8/2=4\n",
        "\n",
        " 4  is even 4/2=2\n",
        "\n",
        " 2  is even 2/2=1     \n",
        "\n",
        "Input : n = 7\n",
        "\n",
        "Output : 4\n",
        "\n",
        "    7->6\n",
        "\n",
        "    6->3\n",
        "\n",
        "    3->2\n",
        "\n",
        "    2->1\n",
        "\n",
        "There is one more way to get in 4 steps :\n",
        "\n",
        "\n",
        "7->8,  8->4,  4->2,  2->1\n"
      ],
      "metadata": {
        "id": "N7_BJ-g15cnc"
      }
    },
    {
      "cell_type": "code",
      "source": [
        "def fun(n):\n",
        "  if n==1:\n",
        "    return 0\n",
        "  elif n%2==0:\n",
        "    return 1+fun(n//2)\n",
        "  else:\n",
        "    return 1+min(fun(n+1),fun(n-1))\n",
        "a=int(input(\"enter the nums:\"))\n",
        "print(fun(a))"
      ],
      "metadata": {
        "colab": {
          "base_uri": "https://localhost:8080/"
        },
        "id": "48Q9MvtM26KM",
        "outputId": "adadbb21-c7dc-41b6-bbf9-6fe16cfd68bc"
      },
      "execution_count": null,
      "outputs": [
        {
          "output_type": "stream",
          "name": "stdout",
          "text": [
            "enter the nums:15\n",
            "5\n"
          ]
        }
      ]
    },
    {
      "cell_type": "markdown",
      "source": [
        "##31)check weteher the given number is perfect square or not"
      ],
      "metadata": {
        "id": "QC0mbKthCKmn"
      }
    },
    {
      "cell_type": "code",
      "source": [
        "def fun(n,i=1):\n",
        "  if i*i==n:\n",
        "    return True\n",
        "  elif i*i>n:\n",
        "    return False\n",
        "  return fun(n,i+1)\n",
        "\n",
        "a= int(input(\"enter the number\"))\n",
        "if fun(a):\n",
        "  print(\"perfect\")\n",
        "else:\n",
        "  print(\"not perfect\")\n"
      ],
      "metadata": {
        "colab": {
          "base_uri": "https://localhost:8080/"
        },
        "id": "ZS6-vdFS6BwT",
        "outputId": "b66d8b8b-4194-480e-b3f3-cfc1efc8b8b0"
      },
      "execution_count": null,
      "outputs": [
        {
          "output_type": "stream",
          "name": "stdout",
          "text": [
            "enter the number25\n",
            "perfect\n"
          ]
        }
      ]
    },
    {
      "cell_type": "markdown",
      "metadata": {
        "id": "6ac5be14"
      },
      "source": [
        "### 32)Fire Simulation\n",
        "\n",
        "Given a 2D matrix representing a grid where '1' signifies a combustible cell and '0' signifies a non-combustible cell. If a fire starts at a given cell (i, j), and the fire spreads to adjacent combustible cells (up, down, left, and right), write a function to simulate the fire spreading and then count the number of cells that remain unburnt (still '1') after the fire has finished spreading.\n",
        "\n",
        "**Input:**\n",
        "\n",
        "*   `matrix`: A list of lists representing the 2D grid.\n",
        "*   `start_row`: The row index where the fire starts.\n",
        "*   `start_col`: The column index where the fire starts.\n"
      ]
    },
    {
      "cell_type": "code",
      "source": [
        "def fire(matrix,i,j):\n",
        "    if i<0 or i>=len(matrix) or j<0 or j>=len(matrix[0]) or matrix[i][j]!=1:\n",
        "        return\n",
        "    matrix[i][j]=2\n",
        "    fire(matrix,i-1,j)\n",
        "    fire(matrix,i+1,j)\n",
        "    fire(matrix,i,j-1)\n",
        "    fire(matrix,i,j+1)\n",
        "matrix=[[1,1,0,1],[1,1,0,1],[1,0,0,1],[1,0,1,0]]\n",
        "fire(matrix,0,0)\n",
        "count=0\n",
        "for i in range(len(matrix)):\n",
        "    for j in range(len(matrix[0])):\n",
        "        if matrix[i][j]==1:\n",
        "            count+=1\n",
        "print(count)"
      ],
      "metadata": {
        "id": "mlxbBHbBC9Xm",
        "colab": {
          "base_uri": "https://localhost:8080/"
        },
        "outputId": "05237229-9fd2-4cce-f6f5-8fbb5e292910"
      },
      "execution_count": null,
      "outputs": [
        {
          "output_type": "stream",
          "name": "stdout",
          "text": [
            "4\n"
          ]
        }
      ]
    },
    {
      "cell_type": "markdown",
      "metadata": {
        "id": "9a2abcd0"
      },
      "source": [
        "###33)Robot Pathfinding Question\n",
        "\n",
        "Imagine a robot is placed at the top-left corner of a grid. The grid is represented by a matrix where '1' means the robot can move through that cell, and '0' means there is an obstacle. The robot can only move down ('D') or right ('R').\n",
        "\n",
        "Given the following grid, find all possible paths the robot can take from the top-left corner to the bottom-right corner. Print each valid path as a sequence of 'D' and 'R' characters."
      ]
    },
    {
      "cell_type": "code",
      "metadata": {
        "id": "bc8af1ef"
      },
      "source": [
        "matrix = [[1, 0, 0],\n",
        "          [1, 1, 0],\n",
        "          [1, 1, 1]]\n",
        "\n",
        "# You can use the 'path' function defined earlier to solve this.\n",
        "# For example:\n",
        "# path(matrix, 0, 0, \"\", len(matrix))"
      ],
      "execution_count": null,
      "outputs": []
    },
    {
      "cell_type": "code",
      "source": [
        "def path(grid,i,j,p,n):\n",
        "  if i==n-1 and j==n-1:\n",
        "    print(p)\n",
        "    return\n",
        "  if i+1<n and grid[i][j]==1:\n",
        "    path(grid,i+1,j,p+\"D\",n)\n",
        "  if j+1<n and grid[i][j]==1:\n",
        "    path(grid,i,j+1,p+\"R\",n)\n",
        "\n",
        "matrix=[[1,0,0],\n",
        "        [1,1,0],\n",
        "        [1,1,1]]\n",
        "path(matrix,0,0,\"\",len(matrix))"
      ],
      "metadata": {
        "id": "lAvGhfA9a-Sp",
        "colab": {
          "base_uri": "https://localhost:8080/"
        },
        "outputId": "7c3e449e-5086-49ec-85e4-42e6862c46e5"
      },
      "execution_count": null,
      "outputs": [
        {
          "output_type": "stream",
          "name": "stdout",
          "text": [
            "DDRR\n",
            "DRDR\n"
          ]
        }
      ]
    },
    {
      "cell_type": "markdown",
      "source": [
        "###34)fint the size of largest subarray palindrome"
      ],
      "metadata": {
        "id": "9Hwj6BDTjkeS"
      }
    },
    {
      "cell_type": "code",
      "source": [
        "s=\"dabac\"          #aba is largest palindrome\n",
        "m=0\n",
        "for i in range(len(s)):\n",
        "  r,l=i,i\n",
        "  while l>=0 and r<len(s) and s[l]==s[r]:\n",
        "    m=max(m,r-l+1)\n",
        "    r+=1\n",
        "    l-=1\n",
        "print(m)\n",
        "\n",
        "#this code is only possible for odd palindrome it will throw error for even palindrome \"abbacd\"an example for even palindrome"
      ],
      "metadata": {
        "id": "SGsPoq-jt9hq",
        "colab": {
          "base_uri": "https://localhost:8080/"
        },
        "outputId": "8972d2de-fc3d-4cd5-dde9-6be53d305cfd"
      },
      "execution_count": null,
      "outputs": [
        {
          "output_type": "stream",
          "name": "stdout",
          "text": [
            "3\n"
          ]
        }
      ]
    },
    {
      "cell_type": "code",
      "source": [
        "s=\"dabbac\"\n",
        "m=0\n",
        "for i in range(len(s)):\n",
        "  r,l=i,i\n",
        "  while l>=0 and r<len(s) and s[l]==s[r]:\n",
        "    m=max(m,r-l+1)\n",
        "    r+=1\n",
        "    l-=1\n",
        "  r,l=i+1,i\n",
        "  while l>=0 and r<len(s) and s[l]==s[r]:\n",
        "    m=max(m,r-l+1)\n",
        "    r+=1\n",
        "    l-=1\n",
        "print(m)\n",
        "#to solve the above mentioned problem we use r+1 again"
      ],
      "metadata": {
        "colab": {
          "base_uri": "https://localhost:8080/"
        },
        "id": "h4Y2WY9skR7b",
        "outputId": "22d1311a-09be-4ae4-f5b9-f024b2c6870c"
      },
      "execution_count": null,
      "outputs": [
        {
          "output_type": "stream",
          "name": "stdout",
          "text": [
            "4\n"
          ]
        }
      ]
    },
    {
      "cell_type": "markdown",
      "source": [
        "###35) find fibonacci number till limit using reccursion"
      ],
      "metadata": {
        "id": "YBGWdj5syWEz"
      }
    },
    {
      "cell_type": "code",
      "source": [
        "def fib(n):\n",
        "  if n==0:\n",
        "    return n\n",
        "  if n==1:\n",
        "    return(1)\n",
        "  else:\n",
        "    return fib(n-1)+fib(n-2)\n",
        "print(fib(9))"
      ],
      "metadata": {
        "colab": {
          "base_uri": "https://localhost:8080/"
        },
        "id": "mSEwC3Y8lhO7",
        "outputId": "3ac20e8d-7d8b-4889-e15c-9d52c7f8358d"
      },
      "execution_count": null,
      "outputs": [
        {
          "output_type": "stream",
          "name": "stdout",
          "text": [
            "34\n"
          ]
        }
      ]
    },
    {
      "cell_type": "markdown",
      "source": [
        "this code creates the problem it takes more time and calculate the same fibonanni more than  1 time which is waste of time so we use dynamic programming approach which is much optimized"
      ],
      "metadata": {
        "id": "W38p7N8Hzg3L"
      }
    },
    {
      "cell_type": "code",
      "source": [
        "##dp approach\n",
        "##this is top down approach as it is memeorization\n",
        "def fib(n,dp):\n",
        "  if n==1 or n==0:\n",
        "    return n\n",
        "  if dp[n]!=-1:\n",
        "    return dp[n]\n",
        "  dp[n]=fib(n-1,dp)+fib(n-2,dp)\n",
        "  return dp[n]\n",
        "\n",
        "n=int(input(\"enter the num:\"))\n",
        "dp=[-1]*(n+1)\n",
        "print(fib(n,dp))"
      ],
      "metadata": {
        "colab": {
          "base_uri": "https://localhost:8080/"
        },
        "id": "h4cZvQzMzK9C",
        "outputId": "696a22ba-638a-4be0-f1d4-d4ff0eb55125"
      },
      "execution_count": null,
      "outputs": [
        {
          "output_type": "stream",
          "name": "stdout",
          "text": [
            "enter the num:9\n",
            "34\n"
          ]
        }
      ]
    },
    {
      "cell_type": "markdown",
      "source": [
        "we can also make the entire thing top down approach by using for loops tabulation"
      ],
      "metadata": {
        "id": "UmhM3kMR2_Tq"
      }
    },
    {
      "cell_type": "code",
      "source": [
        "n=int(input(\"enter the num\"))\n",
        "dp=[-1]*(n+1)\n",
        "dp[0],dp[1]=0,1\n",
        "for i in range(2,n+1):\n",
        "  dp[i]=dp[i-1]+dp[i-2]\n",
        "print(dp[n])"
      ],
      "metadata": {
        "colab": {
          "base_uri": "https://localhost:8080/"
        },
        "id": "e8HDkAlHz38q",
        "outputId": "1c5927c9-3ff4-4b64-f8e8-df32d529dacb"
      },
      "execution_count": null,
      "outputs": [
        {
          "output_type": "stream",
          "name": "stdout",
          "text": [
            "enter the num6\n",
            "8\n"
          ]
        }
      ]
    },
    {
      "cell_type": "markdown",
      "source": [
        "space saving solution"
      ],
      "metadata": {
        "id": "NAjSFJzB33HS"
      }
    },
    {
      "cell_type": "code",
      "source": [
        "n=int(input(\"enter the nums\"))\n",
        "a,b=0,1\n",
        "for i in range(2,n+1):\n",
        "  a,b=b,a+b\n",
        "print(b)"
      ],
      "metadata": {
        "colab": {
          "base_uri": "https://localhost:8080/"
        },
        "id": "kKrurYxl3xw6",
        "outputId": "77bfd48f-2d72-4cc7-c593-44e9373d249d"
      },
      "execution_count": null,
      "outputs": [
        {
          "output_type": "stream",
          "name": "stdout",
          "text": [
            "enter the nums9\n",
            "34\n"
          ]
        }
      ]
    },
    {
      "cell_type": "code",
      "source": [],
      "metadata": {
        "id": "vwpr2MKk8Zyq"
      },
      "execution_count": null,
      "outputs": []
    },
    {
      "cell_type": "markdown",
      "source": [
        "https://takeuforward.org/data-structure/dynamic-programming-introduction/\n",
        "\n",
        "\n",
        "to learn what dynamic program is and how to solve it"
      ],
      "metadata": {
        "id": "Ww5IHDqvD6PL"
      }
    },
    {
      "cell_type": "markdown",
      "source": [
        "https://takeuforward.org/data-structure/dynamic-programming-climbing-stairs/   \n",
        "\n",
        "for climbing stairs"
      ],
      "metadata": {
        "id": "hojgtaBNE3Q7"
      }
    },
    {
      "cell_type": "markdown",
      "source": [
        "https://takeuforward.org/data-structure/dynamic-programming-frog-jump-dp-3/\n",
        "\n",
        "for frog jump\n",
        "\n",
        "\n",
        "###36)roblem Statement:\n",
        "\n",
        "Given a number of stairs and a frog, the frog wants to climb from the 0th stair to the (N-1)th stair. At a time the frog can climb either one or two steps. A height[N] array is also given. Whenever the frog jumps from a stair i to stair j, the energy consumed in the jump is abs(height[i]- height[j]), where abs() means the absolute difference. We need to return the minimum energy that can be used by the frog to jump from stair 0 to stair N-1.\n",
        "\n",
        "\n"
      ],
      "metadata": {
        "id": "z2vUq6NQIugD"
      }
    },
    {
      "cell_type": "code",
      "source": [
        "# frog jump dp\n",
        "\n",
        "def frog_jump(n,energy,dp):\n",
        "  if n==0:\n",
        "    return 0\n",
        "  if dp[n]!=-1:\n",
        "    return dp[n]\n",
        "  jump1=frog_jump(n-1,energy,dp)+abs(energy[n]-energy[n-1])\n",
        "  jump2=float('inf')\n",
        "  if n>1:\n",
        "    jump2=frog_jump(n-2,energy,dp)+abs(energy[n]-energy[n-2])\n",
        "  dp[n]=min(jump1,jump2)\n",
        "  return dp[n]\n",
        "energy=[30,10,60,10,60,50]\n",
        "n=len(energy)-1\n",
        "dp=[-1]*(n+1)\n",
        "print(frog_jump(n,energy,dp))\n"
      ],
      "metadata": {
        "colab": {
          "base_uri": "https://localhost:8080/"
        },
        "id": "0UK783U1D_56",
        "outputId": "0c0b2415-7db3-4978-98cd-6d2d3866b3e0"
      },
      "execution_count": null,
      "outputs": [
        {
          "output_type": "stream",
          "name": "stdout",
          "text": [
            "40\n"
          ]
        }
      ]
    },
    {
      "cell_type": "code",
      "source": [
        "energy =[30,10,60,10,60,50]\n",
        "n=len(energy)\n",
        "dp=[-1]*n\n",
        "dp[0]=0\n",
        "for i in range(1,n):\n",
        "  jump1=dp[i-1]+abs(energy[i]-energy[i-1])\n",
        "  jum2=float('inf')\n",
        "  if n>1:\n",
        "    jump2=dp[i-2]+abs(energy[i]-energy[i-2])\n",
        "  dp[i]=min(jump1,jump2)\n",
        "print(dp[n-1])\n"
      ],
      "metadata": {
        "colab": {
          "base_uri": "https://localhost:8080/"
        },
        "id": "l9RiXMi1c_Ml",
        "outputId": "5140e011-943e-4f60-d027-47897a9940cc"
      },
      "execution_count": null,
      "outputs": [
        {
          "output_type": "stream",
          "name": "stdout",
          "text": [
            "40\n"
          ]
        }
      ]
    },
    {
      "cell_type": "code",
      "source": [],
      "metadata": {
        "id": "lvRDjHGPj7jk"
      },
      "execution_count": null,
      "outputs": []
    }
  ]
}